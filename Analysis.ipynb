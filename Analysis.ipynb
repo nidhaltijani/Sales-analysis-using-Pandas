{
 "cells": [
  {
   "cell_type": "code",
   "execution_count": 1,
   "id": "d2a72895-3016-4072-a0bf-37056f4f2edd",
   "metadata": {},
   "outputs": [],
   "source": [
    "import pandas as pd \n",
    "import numpy as np \n",
    "import matplotlib.pyplot as plt \n",
    "import seaborn as sns\n",
    "import os\n",
    "import datetime as dt"
   ]
  },
  {
   "cell_type": "markdown",
   "id": "d27c793c-eb13-4f19-a544-9fd5b2dc87ba",
   "metadata": {},
   "source": [
    "# Reading the sales data"
   ]
  },
  {
   "cell_type": "code",
   "execution_count": 2,
   "id": "017d9aa9-57cf-4bcf-8d27-3140bcb435fc",
   "metadata": {},
   "outputs": [],
   "source": [
    "path='../Sales_analysis/'\n",
    "files = [file for file in os.listdir(path) if file.startswith('S')]"
   ]
  },
  {
   "cell_type": "code",
   "execution_count": 3,
   "id": "2ae9d08d-6f41-406b-b7ea-94db584fc212",
   "metadata": {},
   "outputs": [
    {
     "data": {
      "text/plain": [
       "['Sales_April_2019.csv',\n",
       " 'Sales_August_2019.csv',\n",
       " 'Sales_December_2019.csv',\n",
       " 'Sales_February_2019.csv',\n",
       " 'Sales_January_2019.csv',\n",
       " 'Sales_July_2019.csv',\n",
       " 'Sales_June_2019.csv',\n",
       " 'Sales_March_2019.csv',\n",
       " 'Sales_May_2019.csv',\n",
       " 'Sales_November_2019.csv',\n",
       " 'Sales_October_2019.csv',\n",
       " 'Sales_September_2019.csv']"
      ]
     },
     "execution_count": 3,
     "metadata": {},
     "output_type": "execute_result"
    }
   ],
   "source": [
    "files"
   ]
  },
  {
   "cell_type": "code",
   "execution_count": 4,
   "id": "925ab2ee-84b5-45b2-a080-06b77b163682",
   "metadata": {},
   "outputs": [],
   "source": [
    "df=pd.DataFrame()\n",
    "for file in files :\n",
    "    df=pd.concat([df,pd.read_csv(file)],axis=0)\n",
    "    "
   ]
  },
  {
   "cell_type": "code",
   "execution_count": 5,
   "id": "0c7f89d3-52a4-4af8-92f5-48b7f6c5fb83",
   "metadata": {},
   "outputs": [
    {
     "data": {
      "text/plain": [
       "(186850, 6)"
      ]
     },
     "execution_count": 5,
     "metadata": {},
     "output_type": "execute_result"
    }
   ],
   "source": [
    "df.shape"
   ]
  },
  {
   "cell_type": "code",
   "execution_count": 6,
   "id": "68785409-c695-473f-8416-ad653c998ad7",
   "metadata": {},
   "outputs": [
    {
     "data": {
      "text/html": [
       "<div>\n",
       "<style scoped>\n",
       "    .dataframe tbody tr th:only-of-type {\n",
       "        vertical-align: middle;\n",
       "    }\n",
       "\n",
       "    .dataframe tbody tr th {\n",
       "        vertical-align: top;\n",
       "    }\n",
       "\n",
       "    .dataframe thead th {\n",
       "        text-align: right;\n",
       "    }\n",
       "</style>\n",
       "<table border=\"1\" class=\"dataframe\">\n",
       "  <thead>\n",
       "    <tr style=\"text-align: right;\">\n",
       "      <th></th>\n",
       "      <th>Order ID</th>\n",
       "      <th>Product</th>\n",
       "      <th>Quantity Ordered</th>\n",
       "      <th>Price Each</th>\n",
       "      <th>Order Date</th>\n",
       "      <th>Purchase Address</th>\n",
       "    </tr>\n",
       "  </thead>\n",
       "  <tbody>\n",
       "    <tr>\n",
       "      <th>0</th>\n",
       "      <td>176558</td>\n",
       "      <td>USB-C Charging Cable</td>\n",
       "      <td>2</td>\n",
       "      <td>11.95</td>\n",
       "      <td>04/19/19 08:46</td>\n",
       "      <td>917 1st St, Dallas, TX 75001</td>\n",
       "    </tr>\n",
       "    <tr>\n",
       "      <th>1</th>\n",
       "      <td>NaN</td>\n",
       "      <td>NaN</td>\n",
       "      <td>NaN</td>\n",
       "      <td>NaN</td>\n",
       "      <td>NaN</td>\n",
       "      <td>NaN</td>\n",
       "    </tr>\n",
       "    <tr>\n",
       "      <th>2</th>\n",
       "      <td>176559</td>\n",
       "      <td>Bose SoundSport Headphones</td>\n",
       "      <td>1</td>\n",
       "      <td>99.99</td>\n",
       "      <td>04/07/19 22:30</td>\n",
       "      <td>682 Chestnut St, Boston, MA 02215</td>\n",
       "    </tr>\n",
       "    <tr>\n",
       "      <th>3</th>\n",
       "      <td>176560</td>\n",
       "      <td>Google Phone</td>\n",
       "      <td>1</td>\n",
       "      <td>600</td>\n",
       "      <td>04/12/19 14:38</td>\n",
       "      <td>669 Spruce St, Los Angeles, CA 90001</td>\n",
       "    </tr>\n",
       "    <tr>\n",
       "      <th>4</th>\n",
       "      <td>176560</td>\n",
       "      <td>Wired Headphones</td>\n",
       "      <td>1</td>\n",
       "      <td>11.99</td>\n",
       "      <td>04/12/19 14:38</td>\n",
       "      <td>669 Spruce St, Los Angeles, CA 90001</td>\n",
       "    </tr>\n",
       "  </tbody>\n",
       "</table>\n",
       "</div>"
      ],
      "text/plain": [
       "  Order ID                     Product Quantity Ordered Price Each  \\\n",
       "0   176558        USB-C Charging Cable                2      11.95   \n",
       "1      NaN                         NaN              NaN        NaN   \n",
       "2   176559  Bose SoundSport Headphones                1      99.99   \n",
       "3   176560                Google Phone                1        600   \n",
       "4   176560            Wired Headphones                1      11.99   \n",
       "\n",
       "       Order Date                      Purchase Address  \n",
       "0  04/19/19 08:46          917 1st St, Dallas, TX 75001  \n",
       "1             NaN                                   NaN  \n",
       "2  04/07/19 22:30     682 Chestnut St, Boston, MA 02215  \n",
       "3  04/12/19 14:38  669 Spruce St, Los Angeles, CA 90001  \n",
       "4  04/12/19 14:38  669 Spruce St, Los Angeles, CA 90001  "
      ]
     },
     "execution_count": 6,
     "metadata": {},
     "output_type": "execute_result"
    }
   ],
   "source": [
    "df.head()"
   ]
  },
  {
   "cell_type": "markdown",
   "id": "2e219a5d-1db7-4a19-9024-adf68716e15b",
   "metadata": {},
   "source": [
    "# Data Cleaning and preprocessing"
   ]
  },
  {
   "cell_type": "code",
   "execution_count": 7,
   "id": "ce8cdeaf-2ffe-4ca9-b171-7dd31b1cb889",
   "metadata": {},
   "outputs": [
    {
     "data": {
      "text/plain": [
       "Order ID            545\n",
       "Product             545\n",
       "Quantity Ordered    545\n",
       "Price Each          545\n",
       "Order Date          545\n",
       "Purchase Address    545\n",
       "dtype: int64"
      ]
     },
     "execution_count": 7,
     "metadata": {},
     "output_type": "execute_result"
    }
   ],
   "source": [
    "df.isna().sum()"
   ]
  },
  {
   "cell_type": "code",
   "execution_count": 8,
   "id": "b2f543b5-44f7-4f06-8156-31633a534945",
   "metadata": {},
   "outputs": [],
   "source": [
    "df.dropna(inplace=True)"
   ]
  },
  {
   "cell_type": "code",
   "execution_count": 9,
   "id": "8e804729-5ce1-4e79-95d2-ac0f417d2ee1",
   "metadata": {},
   "outputs": [
    {
     "data": {
      "text/plain": [
       "Order ID            0\n",
       "Product             0\n",
       "Quantity Ordered    0\n",
       "Price Each          0\n",
       "Order Date          0\n",
       "Purchase Address    0\n",
       "dtype: int64"
      ]
     },
     "execution_count": 9,
     "metadata": {},
     "output_type": "execute_result"
    }
   ],
   "source": [
    "df.isna().sum()"
   ]
  },
  {
   "cell_type": "code",
   "execution_count": 10,
   "id": "8a6d10ed-f262-4ae2-93e7-907c1b35ea6b",
   "metadata": {},
   "outputs": [
    {
     "data": {
      "text/plain": [
       "618"
      ]
     },
     "execution_count": 10,
     "metadata": {},
     "output_type": "execute_result"
    }
   ],
   "source": [
    "df.duplicated().sum()"
   ]
  },
  {
   "cell_type": "code",
   "execution_count": 11,
   "id": "77f4bc87-c827-4845-a660-21a0066da8b9",
   "metadata": {},
   "outputs": [],
   "source": [
    "df=df.drop_duplicates()"
   ]
  },
  {
   "cell_type": "code",
   "execution_count": 12,
   "id": "44be4aa7-6019-4027-9c53-77860ff9e2c2",
   "metadata": {},
   "outputs": [
    {
     "data": {
      "text/plain": [
       "0"
      ]
     },
     "execution_count": 12,
     "metadata": {},
     "output_type": "execute_result"
    }
   ],
   "source": [
    "df.duplicated().sum()"
   ]
  },
  {
   "cell_type": "markdown",
   "id": "8fae3381-489f-46a3-8c90-d5c2bfc9ec0e",
   "metadata": {},
   "source": [
    "### Droping the last unuseful header "
   ]
  },
  {
   "cell_type": "code",
   "execution_count": 13,
   "id": "02f67286-3b78-493d-9654-a764da7bc853",
   "metadata": {},
   "outputs": [
    {
     "data": {
      "text/html": [
       "<div>\n",
       "<style scoped>\n",
       "    .dataframe tbody tr th:only-of-type {\n",
       "        vertical-align: middle;\n",
       "    }\n",
       "\n",
       "    .dataframe tbody tr th {\n",
       "        vertical-align: top;\n",
       "    }\n",
       "\n",
       "    .dataframe thead th {\n",
       "        text-align: right;\n",
       "    }\n",
       "</style>\n",
       "<table border=\"1\" class=\"dataframe\">\n",
       "  <thead>\n",
       "    <tr style=\"text-align: right;\">\n",
       "      <th></th>\n",
       "      <th>Order ID</th>\n",
       "      <th>Product</th>\n",
       "      <th>Quantity Ordered</th>\n",
       "      <th>Price Each</th>\n",
       "      <th>Order Date</th>\n",
       "      <th>Purchase Address</th>\n",
       "    </tr>\n",
       "  </thead>\n",
       "  <tbody>\n",
       "    <tr>\n",
       "      <th>519</th>\n",
       "      <td>Order ID</td>\n",
       "      <td>Product</td>\n",
       "      <td>Quantity Ordered</td>\n",
       "      <td>Price Each</td>\n",
       "      <td>Order Date</td>\n",
       "      <td>Purchase Address</td>\n",
       "    </tr>\n",
       "  </tbody>\n",
       "</table>\n",
       "</div>"
      ],
      "text/plain": [
       "     Order ID  Product  Quantity Ordered  Price Each  Order Date  \\\n",
       "519  Order ID  Product  Quantity Ordered  Price Each  Order Date   \n",
       "\n",
       "     Purchase Address  \n",
       "519  Purchase Address  "
      ]
     },
     "execution_count": 13,
     "metadata": {},
     "output_type": "execute_result"
    }
   ],
   "source": [
    "df[df['Order ID'].astype('str').str.contains(\"Order ID\")]"
   ]
  },
  {
   "cell_type": "code",
   "execution_count": 14,
   "id": "ebb12d77-e2ed-4c71-804b-d73e4707effa",
   "metadata": {},
   "outputs": [],
   "source": [
    "df=df.drop(df[df['Order ID'].astype('str').str.contains(\"Order ID\")].index,axis=0)"
   ]
  },
  {
   "cell_type": "code",
   "execution_count": 15,
   "id": "fe580609-f7ea-4256-afa1-738dec57ef9f",
   "metadata": {},
   "outputs": [
    {
     "data": {
      "text/html": [
       "<div>\n",
       "<style scoped>\n",
       "    .dataframe tbody tr th:only-of-type {\n",
       "        vertical-align: middle;\n",
       "    }\n",
       "\n",
       "    .dataframe tbody tr th {\n",
       "        vertical-align: top;\n",
       "    }\n",
       "\n",
       "    .dataframe thead th {\n",
       "        text-align: right;\n",
       "    }\n",
       "</style>\n",
       "<table border=\"1\" class=\"dataframe\">\n",
       "  <thead>\n",
       "    <tr style=\"text-align: right;\">\n",
       "      <th></th>\n",
       "      <th>Order ID</th>\n",
       "      <th>Product</th>\n",
       "      <th>Quantity Ordered</th>\n",
       "      <th>Price Each</th>\n",
       "      <th>Order Date</th>\n",
       "      <th>Purchase Address</th>\n",
       "    </tr>\n",
       "  </thead>\n",
       "  <tbody>\n",
       "  </tbody>\n",
       "</table>\n",
       "</div>"
      ],
      "text/plain": [
       "Empty DataFrame\n",
       "Columns: [Order ID, Product, Quantity Ordered, Price Each, Order Date, Purchase Address]\n",
       "Index: []"
      ]
     },
     "execution_count": 15,
     "metadata": {},
     "output_type": "execute_result"
    }
   ],
   "source": [
    "df[df['Order ID'].astype('str').str.contains(\"Order ID\")]"
   ]
  },
  {
   "cell_type": "code",
   "execution_count": 16,
   "id": "36f76333-d016-4e37-8460-05fe1f34424b",
   "metadata": {},
   "outputs": [
    {
     "name": "stdout",
     "output_type": "stream",
     "text": [
      "<class 'pandas.core.frame.DataFrame'>\n",
      "Int64Index: 185675 entries, 0 to 11685\n",
      "Data columns (total 6 columns):\n",
      " #   Column            Non-Null Count   Dtype \n",
      "---  ------            --------------   ----- \n",
      " 0   Order ID          185675 non-null  object\n",
      " 1   Product           185675 non-null  object\n",
      " 2   Quantity Ordered  185675 non-null  object\n",
      " 3   Price Each        185675 non-null  object\n",
      " 4   Order Date        185675 non-null  object\n",
      " 5   Purchase Address  185675 non-null  object\n",
      "dtypes: object(6)\n",
      "memory usage: 9.9+ MB\n"
     ]
    }
   ],
   "source": [
    "df.info()"
   ]
  },
  {
   "cell_type": "markdown",
   "id": "9376afe7-98ec-4d37-8021-f3815e47c603",
   "metadata": {},
   "source": [
    "### Correcting the dtypes of the columns"
   ]
  },
  {
   "cell_type": "code",
   "execution_count": 17,
   "id": "a0aba867-a052-4824-93e0-d7baf7a90111",
   "metadata": {},
   "outputs": [
    {
     "data": {
      "text/html": [
       "<div>\n",
       "<style scoped>\n",
       "    .dataframe tbody tr th:only-of-type {\n",
       "        vertical-align: middle;\n",
       "    }\n",
       "\n",
       "    .dataframe tbody tr th {\n",
       "        vertical-align: top;\n",
       "    }\n",
       "\n",
       "    .dataframe thead th {\n",
       "        text-align: right;\n",
       "    }\n",
       "</style>\n",
       "<table border=\"1\" class=\"dataframe\">\n",
       "  <thead>\n",
       "    <tr style=\"text-align: right;\">\n",
       "      <th></th>\n",
       "      <th>Order ID</th>\n",
       "      <th>Product</th>\n",
       "      <th>Quantity Ordered</th>\n",
       "      <th>Price Each</th>\n",
       "      <th>Order Date</th>\n",
       "      <th>Purchase Address</th>\n",
       "    </tr>\n",
       "  </thead>\n",
       "  <tbody>\n",
       "    <tr>\n",
       "      <th>0</th>\n",
       "      <td>176558</td>\n",
       "      <td>USB-C Charging Cable</td>\n",
       "      <td>2</td>\n",
       "      <td>11.95</td>\n",
       "      <td>04/19/19 08:46</td>\n",
       "      <td>917 1st St, Dallas, TX 75001</td>\n",
       "    </tr>\n",
       "    <tr>\n",
       "      <th>2</th>\n",
       "      <td>176559</td>\n",
       "      <td>Bose SoundSport Headphones</td>\n",
       "      <td>1</td>\n",
       "      <td>99.99</td>\n",
       "      <td>04/07/19 22:30</td>\n",
       "      <td>682 Chestnut St, Boston, MA 02215</td>\n",
       "    </tr>\n",
       "    <tr>\n",
       "      <th>3</th>\n",
       "      <td>176560</td>\n",
       "      <td>Google Phone</td>\n",
       "      <td>1</td>\n",
       "      <td>600</td>\n",
       "      <td>04/12/19 14:38</td>\n",
       "      <td>669 Spruce St, Los Angeles, CA 90001</td>\n",
       "    </tr>\n",
       "    <tr>\n",
       "      <th>4</th>\n",
       "      <td>176560</td>\n",
       "      <td>Wired Headphones</td>\n",
       "      <td>1</td>\n",
       "      <td>11.99</td>\n",
       "      <td>04/12/19 14:38</td>\n",
       "      <td>669 Spruce St, Los Angeles, CA 90001</td>\n",
       "    </tr>\n",
       "    <tr>\n",
       "      <th>5</th>\n",
       "      <td>176561</td>\n",
       "      <td>Wired Headphones</td>\n",
       "      <td>1</td>\n",
       "      <td>11.99</td>\n",
       "      <td>04/30/19 09:27</td>\n",
       "      <td>333 8th St, Los Angeles, CA 90001</td>\n",
       "    </tr>\n",
       "  </tbody>\n",
       "</table>\n",
       "</div>"
      ],
      "text/plain": [
       "  Order ID                     Product Quantity Ordered Price Each  \\\n",
       "0   176558        USB-C Charging Cable                2      11.95   \n",
       "2   176559  Bose SoundSport Headphones                1      99.99   \n",
       "3   176560                Google Phone                1        600   \n",
       "4   176560            Wired Headphones                1      11.99   \n",
       "5   176561            Wired Headphones                1      11.99   \n",
       "\n",
       "       Order Date                      Purchase Address  \n",
       "0  04/19/19 08:46          917 1st St, Dallas, TX 75001  \n",
       "2  04/07/19 22:30     682 Chestnut St, Boston, MA 02215  \n",
       "3  04/12/19 14:38  669 Spruce St, Los Angeles, CA 90001  \n",
       "4  04/12/19 14:38  669 Spruce St, Los Angeles, CA 90001  \n",
       "5  04/30/19 09:27     333 8th St, Los Angeles, CA 90001  "
      ]
     },
     "execution_count": 17,
     "metadata": {},
     "output_type": "execute_result"
    }
   ],
   "source": [
    "df.head()"
   ]
  },
  {
   "cell_type": "code",
   "execution_count": 18,
   "id": "b7b769f6-f6ca-4afc-8b29-40d121969b62",
   "metadata": {},
   "outputs": [],
   "source": [
    "df['Order ID']=df['Order ID'].astype('int')"
   ]
  },
  {
   "cell_type": "code",
   "execution_count": 19,
   "id": "80a1b2da-bcf7-4c13-b117-7757b7cc9ed2",
   "metadata": {},
   "outputs": [],
   "source": [
    "df['Quantity Ordered']=df['Quantity Ordered'].astype('int8')"
   ]
  },
  {
   "cell_type": "code",
   "execution_count": 20,
   "id": "15cb4dd7-912b-4366-ab75-5ef413a8bf51",
   "metadata": {},
   "outputs": [],
   "source": [
    "df['Price Each']=df['Price Each'].astype('float')"
   ]
  },
  {
   "cell_type": "code",
   "execution_count": 21,
   "id": "908ed0a6-aeba-49a4-a42e-527bbd4aca5b",
   "metadata": {},
   "outputs": [],
   "source": [
    "df['Order Date']=pd.to_datetime(df['Order Date'])"
   ]
  },
  {
   "cell_type": "code",
   "execution_count": 22,
   "id": "fa42da57-952c-44bd-8c48-f2da160cd1ea",
   "metadata": {},
   "outputs": [
    {
     "data": {
      "text/plain": [
       "Order ID                     int32\n",
       "Product                     object\n",
       "Quantity Ordered              int8\n",
       "Price Each                 float64\n",
       "Order Date          datetime64[ns]\n",
       "Purchase Address            object\n",
       "dtype: object"
      ]
     },
     "execution_count": 22,
     "metadata": {},
     "output_type": "execute_result"
    }
   ],
   "source": [
    "df.dtypes"
   ]
  },
  {
   "cell_type": "code",
   "execution_count": 23,
   "id": "ad37daec-402e-4ee8-a566-f64c95f28424",
   "metadata": {},
   "outputs": [
    {
     "data": {
      "text/html": [
       "<div>\n",
       "<style scoped>\n",
       "    .dataframe tbody tr th:only-of-type {\n",
       "        vertical-align: middle;\n",
       "    }\n",
       "\n",
       "    .dataframe tbody tr th {\n",
       "        vertical-align: top;\n",
       "    }\n",
       "\n",
       "    .dataframe thead th {\n",
       "        text-align: right;\n",
       "    }\n",
       "</style>\n",
       "<table border=\"1\" class=\"dataframe\">\n",
       "  <thead>\n",
       "    <tr style=\"text-align: right;\">\n",
       "      <th></th>\n",
       "      <th>Order ID</th>\n",
       "      <th>Product</th>\n",
       "      <th>Quantity Ordered</th>\n",
       "      <th>Price Each</th>\n",
       "      <th>Order Date</th>\n",
       "      <th>Purchase Address</th>\n",
       "    </tr>\n",
       "  </thead>\n",
       "  <tbody>\n",
       "    <tr>\n",
       "      <th>0</th>\n",
       "      <td>176558</td>\n",
       "      <td>USB-C Charging Cable</td>\n",
       "      <td>2</td>\n",
       "      <td>11.95</td>\n",
       "      <td>2019-04-19 08:46:00</td>\n",
       "      <td>917 1st St, Dallas, TX 75001</td>\n",
       "    </tr>\n",
       "    <tr>\n",
       "      <th>2</th>\n",
       "      <td>176559</td>\n",
       "      <td>Bose SoundSport Headphones</td>\n",
       "      <td>1</td>\n",
       "      <td>99.99</td>\n",
       "      <td>2019-04-07 22:30:00</td>\n",
       "      <td>682 Chestnut St, Boston, MA 02215</td>\n",
       "    </tr>\n",
       "    <tr>\n",
       "      <th>3</th>\n",
       "      <td>176560</td>\n",
       "      <td>Google Phone</td>\n",
       "      <td>1</td>\n",
       "      <td>600.00</td>\n",
       "      <td>2019-04-12 14:38:00</td>\n",
       "      <td>669 Spruce St, Los Angeles, CA 90001</td>\n",
       "    </tr>\n",
       "    <tr>\n",
       "      <th>4</th>\n",
       "      <td>176560</td>\n",
       "      <td>Wired Headphones</td>\n",
       "      <td>1</td>\n",
       "      <td>11.99</td>\n",
       "      <td>2019-04-12 14:38:00</td>\n",
       "      <td>669 Spruce St, Los Angeles, CA 90001</td>\n",
       "    </tr>\n",
       "    <tr>\n",
       "      <th>5</th>\n",
       "      <td>176561</td>\n",
       "      <td>Wired Headphones</td>\n",
       "      <td>1</td>\n",
       "      <td>11.99</td>\n",
       "      <td>2019-04-30 09:27:00</td>\n",
       "      <td>333 8th St, Los Angeles, CA 90001</td>\n",
       "    </tr>\n",
       "  </tbody>\n",
       "</table>\n",
       "</div>"
      ],
      "text/plain": [
       "   Order ID                     Product  Quantity Ordered  Price Each  \\\n",
       "0    176558        USB-C Charging Cable                 2       11.95   \n",
       "2    176559  Bose SoundSport Headphones                 1       99.99   \n",
       "3    176560                Google Phone                 1      600.00   \n",
       "4    176560            Wired Headphones                 1       11.99   \n",
       "5    176561            Wired Headphones                 1       11.99   \n",
       "\n",
       "           Order Date                      Purchase Address  \n",
       "0 2019-04-19 08:46:00          917 1st St, Dallas, TX 75001  \n",
       "2 2019-04-07 22:30:00     682 Chestnut St, Boston, MA 02215  \n",
       "3 2019-04-12 14:38:00  669 Spruce St, Los Angeles, CA 90001  \n",
       "4 2019-04-12 14:38:00  669 Spruce St, Los Angeles, CA 90001  \n",
       "5 2019-04-30 09:27:00     333 8th St, Los Angeles, CA 90001  "
      ]
     },
     "execution_count": 23,
     "metadata": {},
     "output_type": "execute_result"
    }
   ],
   "source": [
    "df.head()"
   ]
  },
  {
   "cell_type": "code",
   "execution_count": 24,
   "id": "b35006f7-574f-422c-9afb-440ed32f6adc",
   "metadata": {},
   "outputs": [
    {
     "name": "stdout",
     "output_type": "stream",
     "text": [
      "<class 'pandas.core.frame.DataFrame'>\n",
      "Int64Index: 185675 entries, 0 to 11685\n",
      "Data columns (total 6 columns):\n",
      " #   Column            Non-Null Count   Dtype         \n",
      "---  ------            --------------   -----         \n",
      " 0   Order ID          185675 non-null  int32         \n",
      " 1   Product           185675 non-null  object        \n",
      " 2   Quantity Ordered  185675 non-null  int8          \n",
      " 3   Price Each        185675 non-null  float64       \n",
      " 4   Order Date        185675 non-null  datetime64[ns]\n",
      " 5   Purchase Address  185675 non-null  object        \n",
      "dtypes: datetime64[ns](1), float64(1), int32(1), int8(1), object(2)\n",
      "memory usage: 8.0+ MB\n"
     ]
    }
   ],
   "source": [
    "df.info()"
   ]
  },
  {
   "cell_type": "code",
   "execution_count": 25,
   "id": "0dbe282e-b348-4645-ab46-a81928bde571",
   "metadata": {},
   "outputs": [
    {
     "data": {
      "text/html": [
       "<div>\n",
       "<style scoped>\n",
       "    .dataframe tbody tr th:only-of-type {\n",
       "        vertical-align: middle;\n",
       "    }\n",
       "\n",
       "    .dataframe tbody tr th {\n",
       "        vertical-align: top;\n",
       "    }\n",
       "\n",
       "    .dataframe thead th {\n",
       "        text-align: right;\n",
       "    }\n",
       "</style>\n",
       "<table border=\"1\" class=\"dataframe\">\n",
       "  <thead>\n",
       "    <tr style=\"text-align: right;\">\n",
       "      <th></th>\n",
       "      <th>Order ID</th>\n",
       "      <th>Quantity Ordered</th>\n",
       "      <th>Price Each</th>\n",
       "    </tr>\n",
       "  </thead>\n",
       "  <tbody>\n",
       "    <tr>\n",
       "      <th>count</th>\n",
       "      <td>185675.000000</td>\n",
       "      <td>185675.000000</td>\n",
       "      <td>185675.000000</td>\n",
       "    </tr>\n",
       "    <tr>\n",
       "      <th>mean</th>\n",
       "      <td>230412.075007</td>\n",
       "      <td>1.124551</td>\n",
       "      <td>184.524642</td>\n",
       "    </tr>\n",
       "    <tr>\n",
       "      <th>std</th>\n",
       "      <td>51511.754650</td>\n",
       "      <td>0.443081</td>\n",
       "      <td>332.850462</td>\n",
       "    </tr>\n",
       "    <tr>\n",
       "      <th>min</th>\n",
       "      <td>141234.000000</td>\n",
       "      <td>1.000000</td>\n",
       "      <td>2.990000</td>\n",
       "    </tr>\n",
       "    <tr>\n",
       "      <th>25%</th>\n",
       "      <td>185833.500000</td>\n",
       "      <td>1.000000</td>\n",
       "      <td>11.950000</td>\n",
       "    </tr>\n",
       "    <tr>\n",
       "      <th>50%</th>\n",
       "      <td>230355.000000</td>\n",
       "      <td>1.000000</td>\n",
       "      <td>14.950000</td>\n",
       "    </tr>\n",
       "    <tr>\n",
       "      <th>75%</th>\n",
       "      <td>275029.000000</td>\n",
       "      <td>1.000000</td>\n",
       "      <td>150.000000</td>\n",
       "    </tr>\n",
       "    <tr>\n",
       "      <th>max</th>\n",
       "      <td>319670.000000</td>\n",
       "      <td>9.000000</td>\n",
       "      <td>1700.000000</td>\n",
       "    </tr>\n",
       "  </tbody>\n",
       "</table>\n",
       "</div>"
      ],
      "text/plain": [
       "            Order ID  Quantity Ordered     Price Each\n",
       "count  185675.000000     185675.000000  185675.000000\n",
       "mean   230412.075007          1.124551     184.524642\n",
       "std     51511.754650          0.443081     332.850462\n",
       "min    141234.000000          1.000000       2.990000\n",
       "25%    185833.500000          1.000000      11.950000\n",
       "50%    230355.000000          1.000000      14.950000\n",
       "75%    275029.000000          1.000000     150.000000\n",
       "max    319670.000000          9.000000    1700.000000"
      ]
     },
     "execution_count": 25,
     "metadata": {},
     "output_type": "execute_result"
    }
   ],
   "source": [
    "df.describe()"
   ]
  },
  {
   "cell_type": "code",
   "execution_count": 26,
   "id": "9ff414c0-82a6-4b8b-9a14-35836215143c",
   "metadata": {},
   "outputs": [],
   "source": [
    "df['Order Month']=df['Order Date'].dt.month"
   ]
  },
  {
   "cell_type": "code",
   "execution_count": 27,
   "id": "90990742-e39f-4a88-a62b-1b92881ce226",
   "metadata": {},
   "outputs": [
    {
     "data": {
      "text/html": [
       "<div>\n",
       "<style scoped>\n",
       "    .dataframe tbody tr th:only-of-type {\n",
       "        vertical-align: middle;\n",
       "    }\n",
       "\n",
       "    .dataframe tbody tr th {\n",
       "        vertical-align: top;\n",
       "    }\n",
       "\n",
       "    .dataframe thead th {\n",
       "        text-align: right;\n",
       "    }\n",
       "</style>\n",
       "<table border=\"1\" class=\"dataframe\">\n",
       "  <thead>\n",
       "    <tr style=\"text-align: right;\">\n",
       "      <th></th>\n",
       "      <th>Order ID</th>\n",
       "      <th>Product</th>\n",
       "      <th>Quantity Ordered</th>\n",
       "      <th>Price Each</th>\n",
       "      <th>Order Date</th>\n",
       "      <th>Purchase Address</th>\n",
       "      <th>Order Month</th>\n",
       "    </tr>\n",
       "  </thead>\n",
       "  <tbody>\n",
       "    <tr>\n",
       "      <th>0</th>\n",
       "      <td>176558</td>\n",
       "      <td>USB-C Charging Cable</td>\n",
       "      <td>2</td>\n",
       "      <td>11.95</td>\n",
       "      <td>2019-04-19 08:46:00</td>\n",
       "      <td>917 1st St, Dallas, TX 75001</td>\n",
       "      <td>4</td>\n",
       "    </tr>\n",
       "    <tr>\n",
       "      <th>2</th>\n",
       "      <td>176559</td>\n",
       "      <td>Bose SoundSport Headphones</td>\n",
       "      <td>1</td>\n",
       "      <td>99.99</td>\n",
       "      <td>2019-04-07 22:30:00</td>\n",
       "      <td>682 Chestnut St, Boston, MA 02215</td>\n",
       "      <td>4</td>\n",
       "    </tr>\n",
       "    <tr>\n",
       "      <th>3</th>\n",
       "      <td>176560</td>\n",
       "      <td>Google Phone</td>\n",
       "      <td>1</td>\n",
       "      <td>600.00</td>\n",
       "      <td>2019-04-12 14:38:00</td>\n",
       "      <td>669 Spruce St, Los Angeles, CA 90001</td>\n",
       "      <td>4</td>\n",
       "    </tr>\n",
       "    <tr>\n",
       "      <th>4</th>\n",
       "      <td>176560</td>\n",
       "      <td>Wired Headphones</td>\n",
       "      <td>1</td>\n",
       "      <td>11.99</td>\n",
       "      <td>2019-04-12 14:38:00</td>\n",
       "      <td>669 Spruce St, Los Angeles, CA 90001</td>\n",
       "      <td>4</td>\n",
       "    </tr>\n",
       "    <tr>\n",
       "      <th>5</th>\n",
       "      <td>176561</td>\n",
       "      <td>Wired Headphones</td>\n",
       "      <td>1</td>\n",
       "      <td>11.99</td>\n",
       "      <td>2019-04-30 09:27:00</td>\n",
       "      <td>333 8th St, Los Angeles, CA 90001</td>\n",
       "      <td>4</td>\n",
       "    </tr>\n",
       "  </tbody>\n",
       "</table>\n",
       "</div>"
      ],
      "text/plain": [
       "   Order ID                     Product  Quantity Ordered  Price Each  \\\n",
       "0    176558        USB-C Charging Cable                 2       11.95   \n",
       "2    176559  Bose SoundSport Headphones                 1       99.99   \n",
       "3    176560                Google Phone                 1      600.00   \n",
       "4    176560            Wired Headphones                 1       11.99   \n",
       "5    176561            Wired Headphones                 1       11.99   \n",
       "\n",
       "           Order Date                      Purchase Address  Order Month  \n",
       "0 2019-04-19 08:46:00          917 1st St, Dallas, TX 75001            4  \n",
       "2 2019-04-07 22:30:00     682 Chestnut St, Boston, MA 02215            4  \n",
       "3 2019-04-12 14:38:00  669 Spruce St, Los Angeles, CA 90001            4  \n",
       "4 2019-04-12 14:38:00  669 Spruce St, Los Angeles, CA 90001            4  \n",
       "5 2019-04-30 09:27:00     333 8th St, Los Angeles, CA 90001            4  "
      ]
     },
     "execution_count": 27,
     "metadata": {},
     "output_type": "execute_result"
    }
   ],
   "source": [
    "df.head()"
   ]
  },
  {
   "cell_type": "markdown",
   "id": "13355c12-8998-4f30-b63d-3bf5eb5875c6",
   "metadata": {},
   "source": [
    "### Adding sales amount column "
   ]
  },
  {
   "cell_type": "code",
   "execution_count": 28,
   "id": "e2f73cd5-105e-4873-84f7-45b9a7c859b4",
   "metadata": {},
   "outputs": [],
   "source": [
    "df['Sales Amount']=df['Quantity Ordered']*df['Price Each']"
   ]
  },
  {
   "cell_type": "markdown",
   "id": "3c4622b5-2f62-4245-adec-42e1c66c9caf",
   "metadata": {},
   "source": [
    "### Adding city column"
   ]
  },
  {
   "cell_type": "code",
   "execution_count": 29,
   "id": "caa37303-5fbc-42d7-904f-0c7727e2f632",
   "metadata": {},
   "outputs": [],
   "source": [
    "df['City']=df['Purchase Address'].apply(lambda x : x.split(\",\")[1].strip())"
   ]
  },
  {
   "cell_type": "code",
   "execution_count": 30,
   "id": "be18ffb7-5bbf-4e20-a2a1-52919034c0b1",
   "metadata": {},
   "outputs": [
    {
     "data": {
      "text/html": [
       "<div>\n",
       "<style scoped>\n",
       "    .dataframe tbody tr th:only-of-type {\n",
       "        vertical-align: middle;\n",
       "    }\n",
       "\n",
       "    .dataframe tbody tr th {\n",
       "        vertical-align: top;\n",
       "    }\n",
       "\n",
       "    .dataframe thead th {\n",
       "        text-align: right;\n",
       "    }\n",
       "</style>\n",
       "<table border=\"1\" class=\"dataframe\">\n",
       "  <thead>\n",
       "    <tr style=\"text-align: right;\">\n",
       "      <th></th>\n",
       "      <th>Order ID</th>\n",
       "      <th>Product</th>\n",
       "      <th>Quantity Ordered</th>\n",
       "      <th>Price Each</th>\n",
       "      <th>Order Date</th>\n",
       "      <th>Purchase Address</th>\n",
       "      <th>Order Month</th>\n",
       "      <th>Sales Amount</th>\n",
       "      <th>City</th>\n",
       "    </tr>\n",
       "  </thead>\n",
       "  <tbody>\n",
       "    <tr>\n",
       "      <th>0</th>\n",
       "      <td>176558</td>\n",
       "      <td>USB-C Charging Cable</td>\n",
       "      <td>2</td>\n",
       "      <td>11.95</td>\n",
       "      <td>2019-04-19 08:46:00</td>\n",
       "      <td>917 1st St, Dallas, TX 75001</td>\n",
       "      <td>4</td>\n",
       "      <td>23.90</td>\n",
       "      <td>Dallas</td>\n",
       "    </tr>\n",
       "    <tr>\n",
       "      <th>2</th>\n",
       "      <td>176559</td>\n",
       "      <td>Bose SoundSport Headphones</td>\n",
       "      <td>1</td>\n",
       "      <td>99.99</td>\n",
       "      <td>2019-04-07 22:30:00</td>\n",
       "      <td>682 Chestnut St, Boston, MA 02215</td>\n",
       "      <td>4</td>\n",
       "      <td>99.99</td>\n",
       "      <td>Boston</td>\n",
       "    </tr>\n",
       "    <tr>\n",
       "      <th>3</th>\n",
       "      <td>176560</td>\n",
       "      <td>Google Phone</td>\n",
       "      <td>1</td>\n",
       "      <td>600.00</td>\n",
       "      <td>2019-04-12 14:38:00</td>\n",
       "      <td>669 Spruce St, Los Angeles, CA 90001</td>\n",
       "      <td>4</td>\n",
       "      <td>600.00</td>\n",
       "      <td>Los Angeles</td>\n",
       "    </tr>\n",
       "    <tr>\n",
       "      <th>4</th>\n",
       "      <td>176560</td>\n",
       "      <td>Wired Headphones</td>\n",
       "      <td>1</td>\n",
       "      <td>11.99</td>\n",
       "      <td>2019-04-12 14:38:00</td>\n",
       "      <td>669 Spruce St, Los Angeles, CA 90001</td>\n",
       "      <td>4</td>\n",
       "      <td>11.99</td>\n",
       "      <td>Los Angeles</td>\n",
       "    </tr>\n",
       "    <tr>\n",
       "      <th>5</th>\n",
       "      <td>176561</td>\n",
       "      <td>Wired Headphones</td>\n",
       "      <td>1</td>\n",
       "      <td>11.99</td>\n",
       "      <td>2019-04-30 09:27:00</td>\n",
       "      <td>333 8th St, Los Angeles, CA 90001</td>\n",
       "      <td>4</td>\n",
       "      <td>11.99</td>\n",
       "      <td>Los Angeles</td>\n",
       "    </tr>\n",
       "  </tbody>\n",
       "</table>\n",
       "</div>"
      ],
      "text/plain": [
       "   Order ID                     Product  Quantity Ordered  Price Each  \\\n",
       "0    176558        USB-C Charging Cable                 2       11.95   \n",
       "2    176559  Bose SoundSport Headphones                 1       99.99   \n",
       "3    176560                Google Phone                 1      600.00   \n",
       "4    176560            Wired Headphones                 1       11.99   \n",
       "5    176561            Wired Headphones                 1       11.99   \n",
       "\n",
       "           Order Date                      Purchase Address  Order Month  \\\n",
       "0 2019-04-19 08:46:00          917 1st St, Dallas, TX 75001            4   \n",
       "2 2019-04-07 22:30:00     682 Chestnut St, Boston, MA 02215            4   \n",
       "3 2019-04-12 14:38:00  669 Spruce St, Los Angeles, CA 90001            4   \n",
       "4 2019-04-12 14:38:00  669 Spruce St, Los Angeles, CA 90001            4   \n",
       "5 2019-04-30 09:27:00     333 8th St, Los Angeles, CA 90001            4   \n",
       "\n",
       "   Sales Amount         City  \n",
       "0         23.90       Dallas  \n",
       "2         99.99       Boston  \n",
       "3        600.00  Los Angeles  \n",
       "4         11.99  Los Angeles  \n",
       "5         11.99  Los Angeles  "
      ]
     },
     "execution_count": 30,
     "metadata": {},
     "output_type": "execute_result"
    }
   ],
   "source": [
    "df.head()"
   ]
  },
  {
   "cell_type": "markdown",
   "id": "180ad40d-3f40-436f-a045-6a5213cd7455",
   "metadata": {},
   "source": [
    "### Saving our preprocessed data "
   ]
  },
  {
   "cell_type": "code",
   "execution_count": 31,
   "id": "9c5c1e8f-2f8b-4987-b7b7-3e6b9677a3a2",
   "metadata": {},
   "outputs": [],
   "source": [
    "df.to_csv('Sales_cleaned.csv')"
   ]
  },
  {
   "cell_type": "markdown",
   "id": "142c6a26-f24d-47ac-a300-6a61859d45d3",
   "metadata": {},
   "source": [
    "# Exploratory Data Analysis"
   ]
  },
  {
   "cell_type": "markdown",
   "id": "8dec7959-cb31-4633-b793-eb4759822afc",
   "metadata": {},
   "source": [
    "### What was the best month for sales ?"
   ]
  },
  {
   "cell_type": "code",
   "execution_count": 32,
   "id": "bc53579f-9a90-4576-abbb-21e6362203f6",
   "metadata": {},
   "outputs": [
    {
     "data": {
      "text/plain": [
       "Order Month\n",
       "12    4608280.75\n",
       "10    3734177.86\n",
       "4     3389217.98\n",
       "11    3197863.10\n",
       "5     3150506.24\n",
       "3     2804969.51\n",
       "7     2646311.32\n",
       "6     2576268.16\n",
       "8     2241071.38\n",
       "2     2200075.09\n",
       "9     2094453.74\n",
       "1     1821313.17\n",
       "Name: Sales Amount, dtype: float64"
      ]
     },
     "execution_count": 32,
     "metadata": {},
     "output_type": "execute_result"
    }
   ],
   "source": [
    "df.groupby('Order Month')['Sales Amount'].sum().sort_values(ascending=False)"
   ]
  },
  {
   "cell_type": "code",
   "execution_count": 33,
   "id": "23129b3e-9802-4292-9286-b7c33d17c82a",
   "metadata": {},
   "outputs": [
    {
     "data": {
      "text/plain": [
       "<AxesSubplot:xlabel='Order Month', ylabel='Sales Amount'>"
      ]
     },
     "execution_count": 33,
     "metadata": {},
     "output_type": "execute_result"
    },
    {
     "data": {
      "image/png": "[encoded data removed]",
      "text/plain": [
       "<Figure size 640x480 with 1 Axes>"
      ]
     },
     "metadata": {},
     "output_type": "display_data"
    }
   ],
   "source": [
    "sns.barplot(data=df,x='Order Month',y='Sales Amount',estimator=sum)"
   ]
  },
  {
   "cell_type": "markdown",
   "id": "fa35b079-7df7-4485-9052-0630d0c346bd",
   "metadata": {},
   "source": [
    "Decemeber was the best month for sales with a sales amount of 4608280.75"
   ]
  },
  {
   "cell_type": "markdown",
   "id": "fe0482b1-3249-43a9-8065-adc7843aa39c",
   "metadata": {},
   "source": [
    "###  What city sold the most products?"
   ]
  },
  {
   "cell_type": "code",
   "execution_count": 34,
   "id": "babc29b2-6b28-4cd6-96be-b2b05e455a19",
   "metadata": {},
   "outputs": [
    {
     "data": {
      "text/plain": [
       "City\n",
       "San Francisco    50166\n",
       "Los Angeles      33245\n",
       "New York City    27901\n",
       "Boston           22492\n",
       "Dallas           16707\n",
       "Atlanta          16583\n",
       "Seattle          16534\n",
       "Portland         14037\n",
       "Austin           11136\n",
       "Name: Quantity Ordered, dtype: int64"
      ]
     },
     "execution_count": 34,
     "metadata": {},
     "output_type": "execute_result"
    }
   ],
   "source": [
    "df.groupby('City')['Quantity Ordered'].sum().sort_values(ascending=False)"
   ]
  },
  {
   "cell_type": "code",
   "execution_count": 35,
   "id": "d2edd8a2-c36e-4943-9786-ea064bcf2aa4",
   "metadata": {},
   "outputs": [
    {
     "data": {
      "text/plain": [
       "(array([0, 1, 2, 3, 4, 5, 6, 7, 8]),\n",
       " [Text(0, 0, 'Dallas'),\n",
       "  Text(1, 0, 'Boston'),\n",
       "  Text(2, 0, 'Los Angeles'),\n",
       "  Text(3, 0, 'San Francisco'),\n",
       "  Text(4, 0, 'Seattle'),\n",
       "  Text(5, 0, 'Atlanta'),\n",
       "  Text(6, 0, 'New York City'),\n",
       "  Text(7, 0, 'Portland'),\n",
       "  Text(8, 0, 'Austin')])"
      ]
     },
     "execution_count": 35,
     "metadata": {},
     "output_type": "execute_result"
    },
    {
     "data": {
      "image/png": "[encoded data removed]",
      "text/plain": [
       "<Figure size 640x480 with 1 Axes>"
      ]
     },
     "metadata": {},
     "output_type": "display_data"
    }
   ],
   "source": [
    "sns.barplot(data=df,x='City',y='Quantity Ordered',estimator=sum)\n",
    "plt.xticks(rotation=90)"
   ]
  },
  {
   "cell_type": "markdown",
   "id": "b38affd4-9b1d-4ca3-86ab-4075a9ec0745",
   "metadata": {},
   "source": [
    "San Francisco was the best city in terms of the number of products (Quantity) with 50166"
   ]
  },
  {
   "cell_type": "markdown",
   "id": "6f714456-3794-4717-9930-082c22c2e037",
   "metadata": {},
   "source": [
    "### Lets check the same question for the sales amount "
   ]
  },
  {
   "cell_type": "code",
   "execution_count": 36,
   "id": "c0b602d7-c986-4be8-a4e5-6a0f20ae45ae",
   "metadata": {},
   "outputs": [
    {
     "data": {
      "text/plain": [
       "(array([0, 1, 2, 3, 4, 5, 6, 7, 8]),\n",
       " [Text(0, 0, 'Dallas'),\n",
       "  Text(1, 0, 'Boston'),\n",
       "  Text(2, 0, 'Los Angeles'),\n",
       "  Text(3, 0, 'San Francisco'),\n",
       "  Text(4, 0, 'Seattle'),\n",
       "  Text(5, 0, 'Atlanta'),\n",
       "  Text(6, 0, 'New York City'),\n",
       "  Text(7, 0, 'Portland'),\n",
       "  Text(8, 0, 'Austin')])"
      ]
     },
     "execution_count": 36,
     "metadata": {},
     "output_type": "execute_result"
    },
    {
     "data": {
      "image/png": "[encoded data removed]",
      "text/plain": [
       "<Figure size 640x480 with 1 Axes>"
      ]
     },
     "metadata": {},
     "output_type": "display_data"
    }
   ],
   "source": [
    "sns.barplot(data=df,x='City',y='Sales Amount',estimator=sum)\n",
    "plt.xticks(rotation=90)"
   ]
  },
  {
   "cell_type": "markdown",
   "id": "6496b999-699a-4952-9c33-68d7f794a7f2",
   "metadata": {},
   "source": [
    "Still San Francisco is the best selling city"
   ]
  },
  {
   "cell_type": "markdown",
   "id": "2f6a7f3f-ca68-4761-9d61-605cfce2b302",
   "metadata": {},
   "source": [
    "### Business question : What time should we display ads to maximize likelihood of customer's buying products ?"
   ]
  },
  {
   "cell_type": "code",
   "execution_count": 37,
   "id": "9bda3d20-f610-499d-a83f-c3cf05367c92",
   "metadata": {},
   "outputs": [
    {
     "data": {
      "text/plain": [
       "0         8\n",
       "2        22\n",
       "3        14\n",
       "4        14\n",
       "5         9\n",
       "         ..\n",
       "11681    20\n",
       "11682    16\n",
       "11683     7\n",
       "11684    17\n",
       "11685     0\n",
       "Name: Order Date, Length: 185675, dtype: int64"
      ]
     },
     "execution_count": 37,
     "metadata": {},
     "output_type": "execute_result"
    }
   ],
   "source": [
    "df['Order Date'].dt.hour"
   ]
  },
  {
   "cell_type": "code",
   "execution_count": 38,
   "id": "3e8a059b-9120-4939-92ca-828a0a496b7d",
   "metadata": {},
   "outputs": [
    {
     "data": {
      "text/plain": [
       "Order Date\n",
       "19    12886\n",
       "12    12573\n",
       "11    12391\n",
       "18    12262\n",
       "20    12216\n",
       "13    12115\n",
       "14    10963\n",
       "10    10929\n",
       "21    10905\n",
       "17    10884\n",
       "16    10359\n",
       "15    10157\n",
       "22     8808\n",
       "9      8738\n",
       "23     6261\n",
       "8      6252\n",
       "7      4002\n",
       "0      3902\n",
       "6      2481\n",
       "1      2347\n",
       "5      1320\n",
       "2      1242\n",
       "4       852\n",
       "3       830\n",
       "Name: Order ID, dtype: int64"
      ]
     },
     "execution_count": 38,
     "metadata": {},
     "output_type": "execute_result"
    }
   ],
   "source": [
    "df.groupby(df['Order Date'].dt.hour)['Order ID'].count().sort_values(ascending=False)"
   ]
  },
  {
   "cell_type": "code",
   "execution_count": 39,
   "id": "08b8606b-104c-4d39-9207-2d0bb70be15f",
   "metadata": {},
   "outputs": [
    {
     "data": {
      "text/plain": [
       "Text(0, 0.5, 'Number of orders')"
      ]
     },
     "execution_count": 39,
     "metadata": {},
     "output_type": "execute_result"
    },
    {
     "data": {
      "image/png": "[encoded data removed]",
      "text/plain": [
       "<Figure size 640x480 with 1 Axes>"
      ]
     },
     "metadata": {},
     "output_type": "display_data"
    }
   ],
   "source": [
    "sns.countplot(data=df,x=df['Order Date'].dt.hour)\n",
    "plt.xlabel(\"Order's hour\")\n",
    "plt.ylabel(\"Number of orders\")"
   ]
  },
  {
   "cell_type": "markdown",
   "id": "ab806875-a4ec-4af4-a91e-dd2b698cb46a",
   "metadata": {},
   "source": [
    "The best time would be around 19 o'clock and 12 o'clock <br>But we can say its almost at its best between 11 o'clock until 13 o'clock and from 18 to 20 o'clock"
   ]
  },
  {
   "cell_type": "markdown",
   "id": "3b8013d6-6703-4947-a161-b88e1126e947",
   "metadata": {},
   "source": [
    "### What products are most often sold together ?"
   ]
  },
  {
   "cell_type": "code",
   "execution_count": 40,
   "id": "2299684b-5458-492a-aefb-e0975cce8239",
   "metadata": {},
   "outputs": [
    {
     "data": {
      "text/html": [
       "<div>\n",
       "<style scoped>\n",
       "    .dataframe tbody tr th:only-of-type {\n",
       "        vertical-align: middle;\n",
       "    }\n",
       "\n",
       "    .dataframe tbody tr th {\n",
       "        vertical-align: top;\n",
       "    }\n",
       "\n",
       "    .dataframe thead th {\n",
       "        text-align: right;\n",
       "    }\n",
       "</style>\n",
       "<table border=\"1\" class=\"dataframe\">\n",
       "  <thead>\n",
       "    <tr style=\"text-align: right;\">\n",
       "      <th></th>\n",
       "      <th>Order ID</th>\n",
       "      <th>Product</th>\n",
       "      <th>Quantity Ordered</th>\n",
       "      <th>Price Each</th>\n",
       "      <th>Order Date</th>\n",
       "      <th>Purchase Address</th>\n",
       "      <th>Order Month</th>\n",
       "      <th>Sales Amount</th>\n",
       "      <th>City</th>\n",
       "    </tr>\n",
       "  </thead>\n",
       "  <tbody>\n",
       "    <tr>\n",
       "      <th>0</th>\n",
       "      <td>176558</td>\n",
       "      <td>USB-C Charging Cable</td>\n",
       "      <td>2</td>\n",
       "      <td>11.95</td>\n",
       "      <td>2019-04-19 08:46:00</td>\n",
       "      <td>917 1st St, Dallas, TX 75001</td>\n",
       "      <td>4</td>\n",
       "      <td>23.90</td>\n",
       "      <td>Dallas</td>\n",
       "    </tr>\n",
       "    <tr>\n",
       "      <th>2</th>\n",
       "      <td>176559</td>\n",
       "      <td>Bose SoundSport Headphones</td>\n",
       "      <td>1</td>\n",
       "      <td>99.99</td>\n",
       "      <td>2019-04-07 22:30:00</td>\n",
       "      <td>682 Chestnut St, Boston, MA 02215</td>\n",
       "      <td>4</td>\n",
       "      <td>99.99</td>\n",
       "      <td>Boston</td>\n",
       "    </tr>\n",
       "    <tr>\n",
       "      <th>3</th>\n",
       "      <td>176560</td>\n",
       "      <td>Google Phone</td>\n",
       "      <td>1</td>\n",
       "      <td>600.00</td>\n",
       "      <td>2019-04-12 14:38:00</td>\n",
       "      <td>669 Spruce St, Los Angeles, CA 90001</td>\n",
       "      <td>4</td>\n",
       "      <td>600.00</td>\n",
       "      <td>Los Angeles</td>\n",
       "    </tr>\n",
       "    <tr>\n",
       "      <th>4</th>\n",
       "      <td>176560</td>\n",
       "      <td>Wired Headphones</td>\n",
       "      <td>1</td>\n",
       "      <td>11.99</td>\n",
       "      <td>2019-04-12 14:38:00</td>\n",
       "      <td>669 Spruce St, Los Angeles, CA 90001</td>\n",
       "      <td>4</td>\n",
       "      <td>11.99</td>\n",
       "      <td>Los Angeles</td>\n",
       "    </tr>\n",
       "    <tr>\n",
       "      <th>5</th>\n",
       "      <td>176561</td>\n",
       "      <td>Wired Headphones</td>\n",
       "      <td>1</td>\n",
       "      <td>11.99</td>\n",
       "      <td>2019-04-30 09:27:00</td>\n",
       "      <td>333 8th St, Los Angeles, CA 90001</td>\n",
       "      <td>4</td>\n",
       "      <td>11.99</td>\n",
       "      <td>Los Angeles</td>\n",
       "    </tr>\n",
       "  </tbody>\n",
       "</table>\n",
       "</div>"
      ],
      "text/plain": [
       "   Order ID                     Product  Quantity Ordered  Price Each  \\\n",
       "0    176558        USB-C Charging Cable                 2       11.95   \n",
       "2    176559  Bose SoundSport Headphones                 1       99.99   \n",
       "3    176560                Google Phone                 1      600.00   \n",
       "4    176560            Wired Headphones                 1       11.99   \n",
       "5    176561            Wired Headphones                 1       11.99   \n",
       "\n",
       "           Order Date                      Purchase Address  Order Month  \\\n",
       "0 2019-04-19 08:46:00          917 1st St, Dallas, TX 75001            4   \n",
       "2 2019-04-07 22:30:00     682 Chestnut St, Boston, MA 02215            4   \n",
       "3 2019-04-12 14:38:00  669 Spruce St, Los Angeles, CA 90001            4   \n",
       "4 2019-04-12 14:38:00  669 Spruce St, Los Angeles, CA 90001            4   \n",
       "5 2019-04-30 09:27:00     333 8th St, Los Angeles, CA 90001            4   \n",
       "\n",
       "   Sales Amount         City  \n",
       "0         23.90       Dallas  \n",
       "2         99.99       Boston  \n",
       "3        600.00  Los Angeles  \n",
       "4         11.99  Los Angeles  \n",
       "5         11.99  Los Angeles  "
      ]
     },
     "execution_count": 40,
     "metadata": {},
     "output_type": "execute_result"
    }
   ],
   "source": [
    "df.head()"
   ]
  },
  {
   "cell_type": "markdown",
   "id": "1f7be743-fd8f-4703-b7e7-09d7326fa8a9",
   "metadata": {},
   "source": [
    "We have to create a column for products sold together"
   ]
  },
  {
   "cell_type": "code",
   "execution_count": 41,
   "id": "98af26bf-5962-46b2-b380-ea0a07fdd4c1",
   "metadata": {},
   "outputs": [],
   "source": [
    "\"\"\"def search_prods(row):\n",
    "    prods=[]\n",
    "    for index,r in df.iterrows():\n",
    "        if row['Order ID']==r['Order ID']:\n",
    "            prods.append(r['Product'])\n",
    "    row['Products Sold With This']=prods\n",
    "    return row\n",
    "    \"\"\""
   ]
  },
  {
   "cell_type": "code",
   "execution_count": 45,
   "id": "040072d4-4a72-4904-a66f-93809b177b38",
   "metadata": {},
   "outputs": [],
   "source": [
    "\"\"\"def search_prods(row):\n",
    "    prods=[]\n",
    "    data=df[df['Order ID']==row['Order ID']]\n",
    "    if len(data)!=0 :\n",
    "        for index,r in data.iterrows():\n",
    "            prods.append(r['Product'])\n",
    "    row['Products Sold With This']=prods\n",
    "    return row\"\"\""
   ]
  },
  {
   "cell_type": "code",
   "execution_count": 48,
   "id": "f08c19a7-5147-4ae6-9940-49a631a8c373",
   "metadata": {
    "collapsed": true,
    "jupyter": {
     "outputs_hidden": true
    },
    "tags": []
   },
   "outputs": [
    {
     "ename": "KeyboardInterrupt",
     "evalue": "",
     "output_type": "error",
     "traceback": [
      "\u001b[1;31m---------------------------------------------------------------------------\u001b[0m",
      "\u001b[1;31mKeyboardInterrupt\u001b[0m                         Traceback (most recent call last)",
      "Cell \u001b[1;32mIn [48], line 1\u001b[0m\n\u001b[1;32m----> 1\u001b[0m df\u001b[38;5;241m=\u001b[39m\u001b[43mdf\u001b[49m\u001b[38;5;241;43m.\u001b[39;49m\u001b[43mapply\u001b[49m\u001b[43m(\u001b[49m\u001b[38;5;28;43;01mlambda\u001b[39;49;00m\u001b[43m \u001b[49m\u001b[43mrow\u001b[49m\u001b[43m \u001b[49m\u001b[43m:\u001b[49m\u001b[43m \u001b[49m\u001b[43msearch_prods\u001b[49m\u001b[43m(\u001b[49m\u001b[43mrow\u001b[49m\u001b[43m)\u001b[49m\u001b[43m,\u001b[49m\u001b[43maxis\u001b[49m\u001b[38;5;241;43m=\u001b[39;49m\u001b[38;5;241;43m1\u001b[39;49m\u001b[43m)\u001b[49m\n",
      "File \u001b[1;32m~\\AppData\\Roaming\\Python\\Python39\\site-packages\\pandas\\core\\frame.py:9558\u001b[0m, in \u001b[0;36mDataFrame.apply\u001b[1;34m(self, func, axis, raw, result_type, args, **kwargs)\u001b[0m\n\u001b[0;32m   9547\u001b[0m \u001b[38;5;28;01mfrom\u001b[39;00m \u001b[38;5;21;01mpandas\u001b[39;00m\u001b[38;5;21;01m.\u001b[39;00m\u001b[38;5;21;01mcore\u001b[39;00m\u001b[38;5;21;01m.\u001b[39;00m\u001b[38;5;21;01mapply\u001b[39;00m \u001b[38;5;28;01mimport\u001b[39;00m frame_apply\n\u001b[0;32m   9549\u001b[0m op \u001b[38;5;241m=\u001b[39m frame_apply(\n\u001b[0;32m   9550\u001b[0m     \u001b[38;5;28mself\u001b[39m,\n\u001b[0;32m   9551\u001b[0m     func\u001b[38;5;241m=\u001b[39mfunc,\n\u001b[1;32m   (...)\u001b[0m\n\u001b[0;32m   9556\u001b[0m     kwargs\u001b[38;5;241m=\u001b[39mkwargs,\n\u001b[0;32m   9557\u001b[0m )\n\u001b[1;32m-> 9558\u001b[0m \u001b[38;5;28;01mreturn\u001b[39;00m \u001b[43mop\u001b[49m\u001b[38;5;241;43m.\u001b[39;49m\u001b[43mapply\u001b[49m\u001b[43m(\u001b[49m\u001b[43m)\u001b[49m\u001b[38;5;241m.\u001b[39m__finalize__(\u001b[38;5;28mself\u001b[39m, method\u001b[38;5;241m=\u001b[39m\u001b[38;5;124m\"\u001b[39m\u001b[38;5;124mapply\u001b[39m\u001b[38;5;124m\"\u001b[39m)\n",
      "File \u001b[1;32m~\\AppData\\Roaming\\Python\\Python39\\site-packages\\pandas\\core\\apply.py:741\u001b[0m, in \u001b[0;36mFrameApply.apply\u001b[1;34m(self)\u001b[0m\n\u001b[0;32m    738\u001b[0m \u001b[38;5;28;01melif\u001b[39;00m \u001b[38;5;28mself\u001b[39m\u001b[38;5;241m.\u001b[39mraw:\n\u001b[0;32m    739\u001b[0m     \u001b[38;5;28;01mreturn\u001b[39;00m \u001b[38;5;28mself\u001b[39m\u001b[38;5;241m.\u001b[39mapply_raw()\n\u001b[1;32m--> 741\u001b[0m \u001b[38;5;28;01mreturn\u001b[39;00m \u001b[38;5;28;43mself\u001b[39;49m\u001b[38;5;241;43m.\u001b[39;49m\u001b[43mapply_standard\u001b[49m\u001b[43m(\u001b[49m\u001b[43m)\u001b[49m\n",
      "File \u001b[1;32m~\\AppData\\Roaming\\Python\\Python39\\site-packages\\pandas\\core\\apply.py:868\u001b[0m, in \u001b[0;36mFrameApply.apply_standard\u001b[1;34m(self)\u001b[0m\n\u001b[0;32m    867\u001b[0m \u001b[38;5;28;01mdef\u001b[39;00m \u001b[38;5;21mapply_standard\u001b[39m(\u001b[38;5;28mself\u001b[39m):\n\u001b[1;32m--> 868\u001b[0m     results, res_index \u001b[38;5;241m=\u001b[39m \u001b[38;5;28;43mself\u001b[39;49m\u001b[38;5;241;43m.\u001b[39;49m\u001b[43mapply_series_generator\u001b[49m\u001b[43m(\u001b[49m\u001b[43m)\u001b[49m\n\u001b[0;32m    870\u001b[0m     \u001b[38;5;66;03m# wrap results\u001b[39;00m\n\u001b[0;32m    871\u001b[0m     \u001b[38;5;28;01mreturn\u001b[39;00m \u001b[38;5;28mself\u001b[39m\u001b[38;5;241m.\u001b[39mwrap_results(results, res_index)\n",
      "File \u001b[1;32m~\\AppData\\Roaming\\Python\\Python39\\site-packages\\pandas\\core\\apply.py:884\u001b[0m, in \u001b[0;36mFrameApply.apply_series_generator\u001b[1;34m(self)\u001b[0m\n\u001b[0;32m    881\u001b[0m \u001b[38;5;28;01mwith\u001b[39;00m option_context(\u001b[38;5;124m\"\u001b[39m\u001b[38;5;124mmode.chained_assignment\u001b[39m\u001b[38;5;124m\"\u001b[39m, \u001b[38;5;28;01mNone\u001b[39;00m):\n\u001b[0;32m    882\u001b[0m     \u001b[38;5;28;01mfor\u001b[39;00m i, v \u001b[38;5;129;01min\u001b[39;00m \u001b[38;5;28menumerate\u001b[39m(series_gen):\n\u001b[0;32m    883\u001b[0m         \u001b[38;5;66;03m# ignore SettingWithCopy here in case the user mutates\u001b[39;00m\n\u001b[1;32m--> 884\u001b[0m         results[i] \u001b[38;5;241m=\u001b[39m \u001b[38;5;28;43mself\u001b[39;49m\u001b[38;5;241;43m.\u001b[39;49m\u001b[43mf\u001b[49m\u001b[43m(\u001b[49m\u001b[43mv\u001b[49m\u001b[43m)\u001b[49m\n\u001b[0;32m    885\u001b[0m         \u001b[38;5;28;01mif\u001b[39;00m \u001b[38;5;28misinstance\u001b[39m(results[i], ABCSeries):\n\u001b[0;32m    886\u001b[0m             \u001b[38;5;66;03m# If we have a view on v, we need to make a copy because\u001b[39;00m\n\u001b[0;32m    887\u001b[0m             \u001b[38;5;66;03m#  series_generator will swap out the underlying data\u001b[39;00m\n\u001b[0;32m    888\u001b[0m             results[i] \u001b[38;5;241m=\u001b[39m results[i]\u001b[38;5;241m.\u001b[39mcopy(deep\u001b[38;5;241m=\u001b[39m\u001b[38;5;28;01mFalse\u001b[39;00m)\n",
      "Cell \u001b[1;32mIn [48], line 1\u001b[0m, in \u001b[0;36m<lambda>\u001b[1;34m(row)\u001b[0m\n\u001b[1;32m----> 1\u001b[0m df\u001b[38;5;241m=\u001b[39mdf\u001b[38;5;241m.\u001b[39mapply(\u001b[38;5;28;01mlambda\u001b[39;00m row : \u001b[43msearch_prods\u001b[49m\u001b[43m(\u001b[49m\u001b[43mrow\u001b[49m\u001b[43m)\u001b[49m,axis\u001b[38;5;241m=\u001b[39m\u001b[38;5;241m1\u001b[39m)\n",
      "Cell \u001b[1;32mIn [45], line 3\u001b[0m, in \u001b[0;36msearch_prods\u001b[1;34m(row)\u001b[0m\n\u001b[0;32m      1\u001b[0m \u001b[38;5;28;01mdef\u001b[39;00m \u001b[38;5;21msearch_prods\u001b[39m(row):\n\u001b[0;32m      2\u001b[0m     prods\u001b[38;5;241m=\u001b[39m[]\n\u001b[1;32m----> 3\u001b[0m     data\u001b[38;5;241m=\u001b[39mdf[\u001b[43mdf\u001b[49m\u001b[43m[\u001b[49m\u001b[38;5;124;43m'\u001b[39;49m\u001b[38;5;124;43mOrder ID\u001b[39;49m\u001b[38;5;124;43m'\u001b[39;49m\u001b[43m]\u001b[49m\u001b[38;5;241;43m==\u001b[39;49m\u001b[43mrow\u001b[49m\u001b[43m[\u001b[49m\u001b[38;5;124;43m'\u001b[39;49m\u001b[38;5;124;43mOrder ID\u001b[39;49m\u001b[38;5;124;43m'\u001b[39;49m\u001b[43m]\u001b[49m]\n\u001b[0;32m      4\u001b[0m     \u001b[38;5;28;01mif\u001b[39;00m \u001b[38;5;28mlen\u001b[39m(data)\u001b[38;5;241m!=\u001b[39m\u001b[38;5;241m0\u001b[39m :\n\u001b[0;32m      5\u001b[0m         \u001b[38;5;28;01mfor\u001b[39;00m index,r \u001b[38;5;129;01min\u001b[39;00m data\u001b[38;5;241m.\u001b[39miterrows():\n",
      "File \u001b[1;32m~\\AppData\\Roaming\\Python\\Python39\\site-packages\\pandas\\core\\ops\\common.py:72\u001b[0m, in \u001b[0;36m_unpack_zerodim_and_defer.<locals>.new_method\u001b[1;34m(self, other)\u001b[0m\n\u001b[0;32m     68\u001b[0m             \u001b[38;5;28;01mreturn\u001b[39;00m \u001b[38;5;28mNotImplemented\u001b[39m\n\u001b[0;32m     70\u001b[0m other \u001b[38;5;241m=\u001b[39m item_from_zerodim(other)\n\u001b[1;32m---> 72\u001b[0m \u001b[38;5;28;01mreturn\u001b[39;00m \u001b[43mmethod\u001b[49m\u001b[43m(\u001b[49m\u001b[38;5;28;43mself\u001b[39;49m\u001b[43m,\u001b[49m\u001b[43m \u001b[49m\u001b[43mother\u001b[49m\u001b[43m)\u001b[49m\n",
      "File \u001b[1;32m~\\AppData\\Roaming\\Python\\Python39\\site-packages\\pandas\\core\\arraylike.py:43\u001b[0m, in \u001b[0;36mOpsMixin.__eq__\u001b[1;34m(self, other)\u001b[0m\n\u001b[0;32m     41\u001b[0m \u001b[38;5;129m@unpack_zerodim_and_defer\u001b[39m(\u001b[38;5;124m\"\u001b[39m\u001b[38;5;124m__eq__\u001b[39m\u001b[38;5;124m\"\u001b[39m)\n\u001b[0;32m     42\u001b[0m \u001b[38;5;28;01mdef\u001b[39;00m \u001b[38;5;21m__eq__\u001b[39m(\u001b[38;5;28mself\u001b[39m, other):\n\u001b[1;32m---> 43\u001b[0m     \u001b[38;5;28;01mreturn\u001b[39;00m \u001b[38;5;28;43mself\u001b[39;49m\u001b[38;5;241;43m.\u001b[39;49m\u001b[43m_cmp_method\u001b[49m\u001b[43m(\u001b[49m\u001b[43mother\u001b[49m\u001b[43m,\u001b[49m\u001b[43m \u001b[49m\u001b[43moperator\u001b[49m\u001b[38;5;241;43m.\u001b[39;49m\u001b[43meq\u001b[49m\u001b[43m)\u001b[49m\n",
      "File \u001b[1;32m~\\AppData\\Roaming\\Python\\Python39\\site-packages\\pandas\\core\\series.py:6246\u001b[0m, in \u001b[0;36mSeries._cmp_method\u001b[1;34m(self, other, op)\u001b[0m\n\u001b[0;32m   6243\u001b[0m rvalues \u001b[38;5;241m=\u001b[39m extract_array(other, extract_numpy\u001b[38;5;241m=\u001b[39m\u001b[38;5;28;01mTrue\u001b[39;00m, extract_range\u001b[38;5;241m=\u001b[39m\u001b[38;5;28;01mTrue\u001b[39;00m)\n\u001b[0;32m   6245\u001b[0m \u001b[38;5;28;01mwith\u001b[39;00m np\u001b[38;5;241m.\u001b[39merrstate(\u001b[38;5;28mall\u001b[39m\u001b[38;5;241m=\u001b[39m\u001b[38;5;124m\"\u001b[39m\u001b[38;5;124mignore\u001b[39m\u001b[38;5;124m\"\u001b[39m):\n\u001b[1;32m-> 6246\u001b[0m     res_values \u001b[38;5;241m=\u001b[39m \u001b[43mops\u001b[49m\u001b[38;5;241;43m.\u001b[39;49m\u001b[43mcomparison_op\u001b[49m\u001b[43m(\u001b[49m\u001b[43mlvalues\u001b[49m\u001b[43m,\u001b[49m\u001b[43m \u001b[49m\u001b[43mrvalues\u001b[49m\u001b[43m,\u001b[49m\u001b[43m \u001b[49m\u001b[43mop\u001b[49m\u001b[43m)\u001b[49m\n\u001b[0;32m   6248\u001b[0m \u001b[38;5;28;01mreturn\u001b[39;00m \u001b[38;5;28mself\u001b[39m\u001b[38;5;241m.\u001b[39m_construct_result(res_values, name\u001b[38;5;241m=\u001b[39mres_name)\n",
      "File \u001b[1;32m~\\AppData\\Roaming\\Python\\Python39\\site-packages\\pandas\\core\\ops\\array_ops.py:290\u001b[0m, in \u001b[0;36mcomparison_op\u001b[1;34m(left, right, op)\u001b[0m\n\u001b[0;32m    287\u001b[0m     res_values \u001b[38;5;241m=\u001b[39m comp_method_OBJECT_ARRAY(op, lvalues, rvalues)\n\u001b[0;32m    289\u001b[0m \u001b[38;5;28;01melse\u001b[39;00m:\n\u001b[1;32m--> 290\u001b[0m     res_values \u001b[38;5;241m=\u001b[39m \u001b[43m_na_arithmetic_op\u001b[49m\u001b[43m(\u001b[49m\u001b[43mlvalues\u001b[49m\u001b[43m,\u001b[49m\u001b[43m \u001b[49m\u001b[43mrvalues\u001b[49m\u001b[43m,\u001b[49m\u001b[43m \u001b[49m\u001b[43mop\u001b[49m\u001b[43m,\u001b[49m\u001b[43m \u001b[49m\u001b[43mis_cmp\u001b[49m\u001b[38;5;241;43m=\u001b[39;49m\u001b[38;5;28;43;01mTrue\u001b[39;49;00m\u001b[43m)\u001b[49m\n\u001b[0;32m    292\u001b[0m \u001b[38;5;28;01mreturn\u001b[39;00m res_values\n",
      "File \u001b[1;32m~\\AppData\\Roaming\\Python\\Python39\\site-packages\\pandas\\core\\ops\\array_ops.py:165\u001b[0m, in \u001b[0;36m_na_arithmetic_op\u001b[1;34m(left, right, op, is_cmp)\u001b[0m\n\u001b[0;32m    162\u001b[0m     func \u001b[38;5;241m=\u001b[39m partial(expressions\u001b[38;5;241m.\u001b[39mevaluate, op)\n\u001b[0;32m    164\u001b[0m \u001b[38;5;28;01mtry\u001b[39;00m:\n\u001b[1;32m--> 165\u001b[0m     result \u001b[38;5;241m=\u001b[39m \u001b[43mfunc\u001b[49m\u001b[43m(\u001b[49m\u001b[43mleft\u001b[49m\u001b[43m,\u001b[49m\u001b[43m \u001b[49m\u001b[43mright\u001b[49m\u001b[43m)\u001b[49m\n\u001b[0;32m    166\u001b[0m \u001b[38;5;28;01mexcept\u001b[39;00m \u001b[38;5;167;01mTypeError\u001b[39;00m:\n\u001b[0;32m    167\u001b[0m     \u001b[38;5;28;01mif\u001b[39;00m \u001b[38;5;129;01mnot\u001b[39;00m is_cmp \u001b[38;5;129;01mand\u001b[39;00m (is_object_dtype(left\u001b[38;5;241m.\u001b[39mdtype) \u001b[38;5;129;01mor\u001b[39;00m is_object_dtype(right)):\n\u001b[0;32m    168\u001b[0m         \u001b[38;5;66;03m# For object dtype, fallback to a masked operation (only operating\u001b[39;00m\n\u001b[0;32m    169\u001b[0m         \u001b[38;5;66;03m#  on the non-missing values)\u001b[39;00m\n\u001b[0;32m    170\u001b[0m         \u001b[38;5;66;03m# Don't do this for comparisons, as that will handle complex numbers\u001b[39;00m\n\u001b[0;32m    171\u001b[0m         \u001b[38;5;66;03m#  incorrectly, see GH#32047\u001b[39;00m\n",
      "File \u001b[1;32m~\\AppData\\Roaming\\Python\\Python39\\site-packages\\pandas\\core\\computation\\expressions.py:242\u001b[0m, in \u001b[0;36mevaluate\u001b[1;34m(op, a, b, use_numexpr)\u001b[0m\n\u001b[0;32m    239\u001b[0m \u001b[38;5;28;01mif\u001b[39;00m op_str \u001b[38;5;129;01mis\u001b[39;00m \u001b[38;5;129;01mnot\u001b[39;00m \u001b[38;5;28;01mNone\u001b[39;00m:\n\u001b[0;32m    240\u001b[0m     \u001b[38;5;28;01mif\u001b[39;00m use_numexpr:\n\u001b[0;32m    241\u001b[0m         \u001b[38;5;66;03m# error: \"None\" not callable\u001b[39;00m\n\u001b[1;32m--> 242\u001b[0m         \u001b[38;5;28;01mreturn\u001b[39;00m \u001b[43m_evaluate\u001b[49m\u001b[43m(\u001b[49m\u001b[43mop\u001b[49m\u001b[43m,\u001b[49m\u001b[43m \u001b[49m\u001b[43mop_str\u001b[49m\u001b[43m,\u001b[49m\u001b[43m \u001b[49m\u001b[43ma\u001b[49m\u001b[43m,\u001b[49m\u001b[43m \u001b[49m\u001b[43mb\u001b[49m\u001b[43m)\u001b[49m  \u001b[38;5;66;03m# type: ignore[misc]\u001b[39;00m\n\u001b[0;32m    243\u001b[0m \u001b[38;5;28;01mreturn\u001b[39;00m _evaluate_standard(op, op_str, a, b)\n",
      "File \u001b[1;32m~\\AppData\\Roaming\\Python\\Python39\\site-packages\\pandas\\core\\computation\\expressions.py:130\u001b[0m, in \u001b[0;36m_evaluate_numexpr\u001b[1;34m(op, op_str, a, b)\u001b[0m\n\u001b[0;32m    127\u001b[0m     _store_test_result(result \u001b[38;5;129;01mis\u001b[39;00m \u001b[38;5;129;01mnot\u001b[39;00m \u001b[38;5;28;01mNone\u001b[39;00m)\n\u001b[0;32m    129\u001b[0m \u001b[38;5;28;01mif\u001b[39;00m result \u001b[38;5;129;01mis\u001b[39;00m \u001b[38;5;28;01mNone\u001b[39;00m:\n\u001b[1;32m--> 130\u001b[0m     result \u001b[38;5;241m=\u001b[39m \u001b[43m_evaluate_standard\u001b[49m\u001b[43m(\u001b[49m\u001b[43mop\u001b[49m\u001b[43m,\u001b[49m\u001b[43m \u001b[49m\u001b[43mop_str\u001b[49m\u001b[43m,\u001b[49m\u001b[43m \u001b[49m\u001b[43ma\u001b[49m\u001b[43m,\u001b[49m\u001b[43m \u001b[49m\u001b[43mb\u001b[49m\u001b[43m)\u001b[49m\n\u001b[0;32m    132\u001b[0m \u001b[38;5;28;01mreturn\u001b[39;00m result\n",
      "File \u001b[1;32m~\\AppData\\Roaming\\Python\\Python39\\site-packages\\pandas\\core\\computation\\expressions.py:71\u001b[0m, in \u001b[0;36m_evaluate_standard\u001b[1;34m(op, op_str, a, b)\u001b[0m\n\u001b[0;32m     69\u001b[0m \u001b[38;5;28;01mif\u001b[39;00m _TEST_MODE:\n\u001b[0;32m     70\u001b[0m     _store_test_result(\u001b[38;5;28;01mFalse\u001b[39;00m)\n\u001b[1;32m---> 71\u001b[0m \u001b[38;5;28;01mreturn\u001b[39;00m \u001b[43mop\u001b[49m\u001b[43m(\u001b[49m\u001b[43ma\u001b[49m\u001b[43m,\u001b[49m\u001b[43m \u001b[49m\u001b[43mb\u001b[49m\u001b[43m)\u001b[49m\n",
      "\u001b[1;31mKeyboardInterrupt\u001b[0m: "
     ]
    }
   ],
   "source": [
    "df=df.apply(lambda row : search_prods(row),axis=1)"
   ]
  },
  {
   "cell_type": "markdown",
   "id": "1fe55eb5-b350-4165-8c27-d496ca66637c",
   "metadata": {},
   "source": [
    "high search comlexity we will try using transform"
   ]
  },
  {
   "cell_type": "code",
   "execution_count": 46,
   "id": "b13b25ea-a9b3-41de-8367-46310ba45e93",
   "metadata": {},
   "outputs": [
    {
     "data": {
      "text/plain": [
       "Index(['Order ID', 'Product', 'Quantity Ordered', 'Price Each', 'Order Date',\n",
       "       'Purchase Address', 'Order Month', 'Sales Amount', 'City'],\n",
       "      dtype='object')"
      ]
     },
     "execution_count": 46,
     "metadata": {},
     "output_type": "execute_result"
    }
   ],
   "source": [
    "df.columns"
   ]
  },
  {
   "cell_type": "code",
   "execution_count": 51,
   "id": "f3ff50c7-7b48-4427-b0e4-dff9204bccd2",
   "metadata": {},
   "outputs": [],
   "source": [
    "df['Products Sold With This']=df.groupby('Order ID')['Product'].transform(lambda x: '/'.join(x))"
   ]
  },
  {
   "cell_type": "code",
   "execution_count": 52,
   "id": "dde49919-4c3b-411f-a114-e27e0fde9a4d",
   "metadata": {},
   "outputs": [
    {
     "data": {
      "text/html": [
       "<div>\n",
       "<style scoped>\n",
       "    .dataframe tbody tr th:only-of-type {\n",
       "        vertical-align: middle;\n",
       "    }\n",
       "\n",
       "    .dataframe tbody tr th {\n",
       "        vertical-align: top;\n",
       "    }\n",
       "\n",
       "    .dataframe thead th {\n",
       "        text-align: right;\n",
       "    }\n",
       "</style>\n",
       "<table border=\"1\" class=\"dataframe\">\n",
       "  <thead>\n",
       "    <tr style=\"text-align: right;\">\n",
       "      <th></th>\n",
       "      <th>Order ID</th>\n",
       "      <th>Product</th>\n",
       "      <th>Quantity Ordered</th>\n",
       "      <th>Price Each</th>\n",
       "      <th>Order Date</th>\n",
       "      <th>Purchase Address</th>\n",
       "      <th>Order Month</th>\n",
       "      <th>Sales Amount</th>\n",
       "      <th>City</th>\n",
       "      <th>Products Sold With This</th>\n",
       "    </tr>\n",
       "  </thead>\n",
       "  <tbody>\n",
       "    <tr>\n",
       "      <th>0</th>\n",
       "      <td>176558</td>\n",
       "      <td>USB-C Charging Cable</td>\n",
       "      <td>2</td>\n",
       "      <td>11.95</td>\n",
       "      <td>2019-04-19 08:46:00</td>\n",
       "      <td>917 1st St, Dallas, TX 75001</td>\n",
       "      <td>4</td>\n",
       "      <td>23.90</td>\n",
       "      <td>Dallas</td>\n",
       "      <td>USB-C Charging Cable</td>\n",
       "    </tr>\n",
       "    <tr>\n",
       "      <th>2</th>\n",
       "      <td>176559</td>\n",
       "      <td>Bose SoundSport Headphones</td>\n",
       "      <td>1</td>\n",
       "      <td>99.99</td>\n",
       "      <td>2019-04-07 22:30:00</td>\n",
       "      <td>682 Chestnut St, Boston, MA 02215</td>\n",
       "      <td>4</td>\n",
       "      <td>99.99</td>\n",
       "      <td>Boston</td>\n",
       "      <td>Bose SoundSport Headphones</td>\n",
       "    </tr>\n",
       "    <tr>\n",
       "      <th>3</th>\n",
       "      <td>176560</td>\n",
       "      <td>Google Phone</td>\n",
       "      <td>1</td>\n",
       "      <td>600.00</td>\n",
       "      <td>2019-04-12 14:38:00</td>\n",
       "      <td>669 Spruce St, Los Angeles, CA 90001</td>\n",
       "      <td>4</td>\n",
       "      <td>600.00</td>\n",
       "      <td>Los Angeles</td>\n",
       "      <td>Google Phone/Wired Headphones</td>\n",
       "    </tr>\n",
       "    <tr>\n",
       "      <th>4</th>\n",
       "      <td>176560</td>\n",
       "      <td>Wired Headphones</td>\n",
       "      <td>1</td>\n",
       "      <td>11.99</td>\n",
       "      <td>2019-04-12 14:38:00</td>\n",
       "      <td>669 Spruce St, Los Angeles, CA 90001</td>\n",
       "      <td>4</td>\n",
       "      <td>11.99</td>\n",
       "      <td>Los Angeles</td>\n",
       "      <td>Google Phone/Wired Headphones</td>\n",
       "    </tr>\n",
       "    <tr>\n",
       "      <th>5</th>\n",
       "      <td>176561</td>\n",
       "      <td>Wired Headphones</td>\n",
       "      <td>1</td>\n",
       "      <td>11.99</td>\n",
       "      <td>2019-04-30 09:27:00</td>\n",
       "      <td>333 8th St, Los Angeles, CA 90001</td>\n",
       "      <td>4</td>\n",
       "      <td>11.99</td>\n",
       "      <td>Los Angeles</td>\n",
       "      <td>Wired Headphones</td>\n",
       "    </tr>\n",
       "  </tbody>\n",
       "</table>\n",
       "</div>"
      ],
      "text/plain": [
       "   Order ID                     Product  Quantity Ordered  Price Each  \\\n",
       "0    176558        USB-C Charging Cable                 2       11.95   \n",
       "2    176559  Bose SoundSport Headphones                 1       99.99   \n",
       "3    176560                Google Phone                 1      600.00   \n",
       "4    176560            Wired Headphones                 1       11.99   \n",
       "5    176561            Wired Headphones                 1       11.99   \n",
       "\n",
       "           Order Date                      Purchase Address  Order Month  \\\n",
       "0 2019-04-19 08:46:00          917 1st St, Dallas, TX 75001            4   \n",
       "2 2019-04-07 22:30:00     682 Chestnut St, Boston, MA 02215            4   \n",
       "3 2019-04-12 14:38:00  669 Spruce St, Los Angeles, CA 90001            4   \n",
       "4 2019-04-12 14:38:00  669 Spruce St, Los Angeles, CA 90001            4   \n",
       "5 2019-04-30 09:27:00     333 8th St, Los Angeles, CA 90001            4   \n",
       "\n",
       "   Sales Amount         City        Products Sold With This  \n",
       "0         23.90       Dallas           USB-C Charging Cable  \n",
       "2         99.99       Boston     Bose SoundSport Headphones  \n",
       "3        600.00  Los Angeles  Google Phone/Wired Headphones  \n",
       "4         11.99  Los Angeles  Google Phone/Wired Headphones  \n",
       "5         11.99  Los Angeles               Wired Headphones  "
      ]
     },
     "execution_count": 52,
     "metadata": {},
     "output_type": "execute_result"
    }
   ],
   "source": [
    "df.head()"
   ]
  },
  {
   "cell_type": "code",
   "execution_count": 61,
   "id": "35b70e17-dfde-4f05-aa82-6d50add35d6b",
   "metadata": {},
   "outputs": [
    {
     "data": {
      "text/plain": [
       "7249"
      ]
     },
     "execution_count": 61,
     "metadata": {},
     "output_type": "execute_result"
    }
   ],
   "source": [
    "df[['Order ID','Products Sold With This']].duplicated().sum()"
   ]
  },
  {
   "cell_type": "code",
   "execution_count": 62,
   "id": "0b1457ea-93cb-4bb6-b6f3-cb2e6794aad3",
   "metadata": {},
   "outputs": [],
   "source": [
    "data=df.drop_duplicates(subset=['Order ID','Products Sold With This'])"
   ]
  },
  {
   "cell_type": "code",
   "execution_count": 63,
   "id": "53fc612c-9e7a-4464-b1c1-dc512059bd3a",
   "metadata": {},
   "outputs": [
    {
     "data": {
      "text/plain": [
       "(178426, 10)"
      ]
     },
     "execution_count": 63,
     "metadata": {},
     "output_type": "execute_result"
    }
   ],
   "source": [
    "data.shape"
   ]
  },
  {
   "cell_type": "code",
   "execution_count": 66,
   "id": "2530def7-1341-4fed-99bf-88bcc99539f4",
   "metadata": {},
   "outputs": [
    {
     "data": {
      "text/plain": [
       "0"
      ]
     },
     "execution_count": 66,
     "metadata": {},
     "output_type": "execute_result"
    }
   ],
   "source": [
    "data[['Order ID','Products Sold With This']].duplicated().sum()"
   ]
  },
  {
   "cell_type": "code",
   "execution_count": 64,
   "id": "85a27945-4f9b-4bf4-a6d8-e4ab50b3cbda",
   "metadata": {},
   "outputs": [
    {
     "data": {
      "text/html": [
       "<div>\n",
       "<style scoped>\n",
       "    .dataframe tbody tr th:only-of-type {\n",
       "        vertical-align: middle;\n",
       "    }\n",
       "\n",
       "    .dataframe tbody tr th {\n",
       "        vertical-align: top;\n",
       "    }\n",
       "\n",
       "    .dataframe thead th {\n",
       "        text-align: right;\n",
       "    }\n",
       "</style>\n",
       "<table border=\"1\" class=\"dataframe\">\n",
       "  <thead>\n",
       "    <tr style=\"text-align: right;\">\n",
       "      <th></th>\n",
       "      <th>Order ID</th>\n",
       "      <th>Product</th>\n",
       "      <th>Quantity Ordered</th>\n",
       "      <th>Price Each</th>\n",
       "      <th>Order Date</th>\n",
       "      <th>Purchase Address</th>\n",
       "      <th>Order Month</th>\n",
       "      <th>Sales Amount</th>\n",
       "      <th>City</th>\n",
       "      <th>Products Sold With This</th>\n",
       "    </tr>\n",
       "  </thead>\n",
       "  <tbody>\n",
       "    <tr>\n",
       "      <th>0</th>\n",
       "      <td>176558</td>\n",
       "      <td>USB-C Charging Cable</td>\n",
       "      <td>2</td>\n",
       "      <td>11.95</td>\n",
       "      <td>2019-04-19 08:46:00</td>\n",
       "      <td>917 1st St, Dallas, TX 75001</td>\n",
       "      <td>4</td>\n",
       "      <td>23.90</td>\n",
       "      <td>Dallas</td>\n",
       "      <td>USB-C Charging Cable</td>\n",
       "    </tr>\n",
       "    <tr>\n",
       "      <th>2</th>\n",
       "      <td>176559</td>\n",
       "      <td>Bose SoundSport Headphones</td>\n",
       "      <td>1</td>\n",
       "      <td>99.99</td>\n",
       "      <td>2019-04-07 22:30:00</td>\n",
       "      <td>682 Chestnut St, Boston, MA 02215</td>\n",
       "      <td>4</td>\n",
       "      <td>99.99</td>\n",
       "      <td>Boston</td>\n",
       "      <td>Bose SoundSport Headphones</td>\n",
       "    </tr>\n",
       "    <tr>\n",
       "      <th>3</th>\n",
       "      <td>176560</td>\n",
       "      <td>Google Phone</td>\n",
       "      <td>1</td>\n",
       "      <td>600.00</td>\n",
       "      <td>2019-04-12 14:38:00</td>\n",
       "      <td>669 Spruce St, Los Angeles, CA 90001</td>\n",
       "      <td>4</td>\n",
       "      <td>600.00</td>\n",
       "      <td>Los Angeles</td>\n",
       "      <td>Google Phone/Wired Headphones</td>\n",
       "    </tr>\n",
       "    <tr>\n",
       "      <th>5</th>\n",
       "      <td>176561</td>\n",
       "      <td>Wired Headphones</td>\n",
       "      <td>1</td>\n",
       "      <td>11.99</td>\n",
       "      <td>2019-04-30 09:27:00</td>\n",
       "      <td>333 8th St, Los Angeles, CA 90001</td>\n",
       "      <td>4</td>\n",
       "      <td>11.99</td>\n",
       "      <td>Los Angeles</td>\n",
       "      <td>Wired Headphones</td>\n",
       "    </tr>\n",
       "    <tr>\n",
       "      <th>6</th>\n",
       "      <td>176562</td>\n",
       "      <td>USB-C Charging Cable</td>\n",
       "      <td>1</td>\n",
       "      <td>11.95</td>\n",
       "      <td>2019-04-29 13:03:00</td>\n",
       "      <td>381 Wilson St, San Francisco, CA 94016</td>\n",
       "      <td>4</td>\n",
       "      <td>11.95</td>\n",
       "      <td>San Francisco</td>\n",
       "      <td>USB-C Charging Cable</td>\n",
       "    </tr>\n",
       "  </tbody>\n",
       "</table>\n",
       "</div>"
      ],
      "text/plain": [
       "   Order ID                     Product  Quantity Ordered  Price Each  \\\n",
       "0    176558        USB-C Charging Cable                 2       11.95   \n",
       "2    176559  Bose SoundSport Headphones                 1       99.99   \n",
       "3    176560                Google Phone                 1      600.00   \n",
       "5    176561            Wired Headphones                 1       11.99   \n",
       "6    176562        USB-C Charging Cable                 1       11.95   \n",
       "\n",
       "           Order Date                        Purchase Address  Order Month  \\\n",
       "0 2019-04-19 08:46:00            917 1st St, Dallas, TX 75001            4   \n",
       "2 2019-04-07 22:30:00       682 Chestnut St, Boston, MA 02215            4   \n",
       "3 2019-04-12 14:38:00    669 Spruce St, Los Angeles, CA 90001            4   \n",
       "5 2019-04-30 09:27:00       333 8th St, Los Angeles, CA 90001            4   \n",
       "6 2019-04-29 13:03:00  381 Wilson St, San Francisco, CA 94016            4   \n",
       "\n",
       "   Sales Amount           City        Products Sold With This  \n",
       "0         23.90         Dallas           USB-C Charging Cable  \n",
       "2         99.99         Boston     Bose SoundSport Headphones  \n",
       "3        600.00    Los Angeles  Google Phone/Wired Headphones  \n",
       "5         11.99    Los Angeles               Wired Headphones  \n",
       "6         11.95  San Francisco           USB-C Charging Cable  "
      ]
     },
     "execution_count": 64,
     "metadata": {},
     "output_type": "execute_result"
    }
   ],
   "source": [
    "data.head()"
   ]
  },
  {
   "cell_type": "code",
   "execution_count": 68,
   "id": "5315faa4-a838-49b8-8b0c-1094cfc89768",
   "metadata": {},
   "outputs": [
    {
     "data": {
      "text/plain": [
       "iPhone/Lightning Charging Cable             886\n",
       "Google Phone/USB-C Charging Cable           857\n",
       "iPhone/Wired Headphones                     361\n",
       "Vareebadd Phone/USB-C Charging Cable        312\n",
       "Google Phone/Wired Headphones               303\n",
       "                                           ... \n",
       "Flatscreen TV/20in Monitor                    1\n",
       "LG Dryer/AAA Batteries (4-pack)               1\n",
       "iPhone/LG Washing Machine                     1\n",
       "ThinkPad Laptop/LG Dryer                      1\n",
       "LG Washing Machine/AA Batteries (4-pack)      1\n",
       "Name: Products Sold With This, Length: 350, dtype: int64"
      ]
     },
     "execution_count": 68,
     "metadata": {},
     "output_type": "execute_result"
    }
   ],
   "source": [
    "data[data['Products Sold With This'].str.contains(\"/\")]['Products Sold With This'].value_counts().sort_values(ascending=False)"
   ]
  },
  {
   "cell_type": "code",
   "execution_count": 75,
   "id": "49a06d18-6acf-4b7a-a394-2d4f475f9e05",
   "metadata": {},
   "outputs": [
    {
     "data": {
      "text/plain": [
       "(array([0, 1, 2, 3, 4, 5, 6, 7, 8, 9]),\n",
       " [Text(0, 0, 'iPhone/Lightning Charging Cable'),\n",
       "  Text(1, 0, 'Google Phone/USB-C Charging Cable'),\n",
       "  Text(2, 0, 'iPhone/Wired Headphones'),\n",
       "  Text(3, 0, 'Vareebadd Phone/USB-C Charging Cable'),\n",
       "  Text(4, 0, 'Google Phone/Wired Headphones'),\n",
       "  Text(5, 0, 'iPhone/Apple Airpods Headphones'),\n",
       "  Text(6, 0, 'Google Phone/Bose SoundSport Headphones'),\n",
       "  Text(7, 0, 'Vareebadd Phone/Wired Headphones'),\n",
       "  Text(8, 0, 'Google Phone/USB-C Charging Cable/Wired Headphones'),\n",
       "  Text(9, 0, 'Vareebadd Phone/Bose SoundSport Headphones')])"
      ]
     },
     "execution_count": 75,
     "metadata": {},
     "output_type": "execute_result"
    },
    {
     "data": {
      "image/png": "[encoded data removed]",
      "text/plain": [
       "<Figure size 640x480 with 1 Axes>"
      ]
     },
     "metadata": {},
     "output_type": "display_data"
    }
   ],
   "source": [
    "sns.countplot(data=data,x=data[data['Products Sold With This'].str.contains(\"/\")]['Products Sold With This']\\\n",
    "              ,order=data[data['Products Sold With This'].str.contains(\"/\")]['Products Sold With This'].value_counts().iloc[:10].index)\n",
    "plt.xticks(rotation=90)"
   ]
  },
  {
   "cell_type": "markdown",
   "id": "59fcca55-c28d-4445-9e6a-fdcd9cd538ec",
   "metadata": {},
   "source": [
    "### What product was sold the most ?"
   ]
  },
  {
   "cell_type": "code",
   "execution_count": 77,
   "id": "5c31bf93-73dd-4760-81c9-06af94ccbe41",
   "metadata": {},
   "outputs": [
    {
     "data": {
      "text/plain": [
       "Product\n",
       "AAA Batteries (4-pack)        30985\n",
       "AA Batteries (4-pack)         27614\n",
       "USB-C Charging Cable          23929\n",
       "Lightning Charging Cable      23168\n",
       "Wired Headphones              20522\n",
       "Apple Airpods Headphones      15636\n",
       "Bose SoundSport Headphones    13429\n",
       "27in FHD Monitor               7541\n",
       "iPhone                         6847\n",
       "27in 4K Gaming Monitor         6239\n",
       "34in Ultrawide Monitor         6192\n",
       "Google Phone                   5528\n",
       "Flatscreen TV                  4813\n",
       "Macbook Pro Laptop             4725\n",
       "ThinkPad Laptop                4128\n",
       "20in Monitor                   4125\n",
       "Vareebadd Phone                2068\n",
       "LG Washing Machine              666\n",
       "LG Dryer                        646\n",
       "Name: Quantity Ordered, dtype: int64"
      ]
     },
     "execution_count": 77,
     "metadata": {},
     "output_type": "execute_result"
    }
   ],
   "source": [
    "df.groupby('Product')['Quantity Ordered'].sum().sort_values(ascending=False)"
   ]
  },
  {
   "cell_type": "code",
   "execution_count": 79,
   "id": "22c4e1d4-ad02-4137-8c39-6ef45986b039",
   "metadata": {},
   "outputs": [
    {
     "data": {
      "text/plain": [
       "<AxesSubplot:xlabel='Quantity Ordered', ylabel='Product'>"
      ]
     },
     "execution_count": 79,
     "metadata": {},
     "output_type": "execute_result"
    },
    {
     "data": {
      "image/png": "[encoded data removed]",
      "text/plain": [
       "<Figure size 640x480 with 1 Axes>"
      ]
     },
     "metadata": {},
     "output_type": "display_data"
    }
   ],
   "source": [
    "sns.barplot(data=df,x='Quantity Ordered',y='Product',estimator=sum)"
   ]
  },
  {
   "cell_type": "code",
   "execution_count": 82,
   "id": "e6ff0743-ad81-42b9-980d-c8869fc44972",
   "metadata": {},
   "outputs": [
    {
     "data": {
      "text/html": [
       "<div>\n",
       "<style scoped>\n",
       "    .dataframe tbody tr th:only-of-type {\n",
       "        vertical-align: middle;\n",
       "    }\n",
       "\n",
       "    .dataframe tbody tr th {\n",
       "        vertical-align: top;\n",
       "    }\n",
       "\n",
       "    .dataframe thead th {\n",
       "        text-align: right;\n",
       "    }\n",
       "</style>\n",
       "<table border=\"1\" class=\"dataframe\">\n",
       "  <thead>\n",
       "    <tr style=\"text-align: right;\">\n",
       "      <th></th>\n",
       "      <th>Order ID</th>\n",
       "      <th>Product</th>\n",
       "      <th>Quantity Ordered</th>\n",
       "      <th>Price Each</th>\n",
       "      <th>Order Date</th>\n",
       "      <th>Purchase Address</th>\n",
       "      <th>Order Month</th>\n",
       "      <th>Sales Amount</th>\n",
       "      <th>City</th>\n",
       "      <th>Products Sold With This</th>\n",
       "    </tr>\n",
       "  </thead>\n",
       "  <tbody>\n",
       "    <tr>\n",
       "      <th>20</th>\n",
       "      <td>176575</td>\n",
       "      <td>AAA Batteries (4-pack)</td>\n",
       "      <td>1</td>\n",
       "      <td>2.99</td>\n",
       "      <td>2019-04-27 00:30:00</td>\n",
       "      <td>433 Hill St, New York City, NY 10001</td>\n",
       "      <td>4</td>\n",
       "      <td>2.99</td>\n",
       "      <td>New York City</td>\n",
       "      <td>AAA Batteries (4-pack)</td>\n",
       "    </tr>\n",
       "    <tr>\n",
       "      <th>28</th>\n",
       "      <td>176583</td>\n",
       "      <td>AAA Batteries (4-pack)</td>\n",
       "      <td>2</td>\n",
       "      <td>2.99</td>\n",
       "      <td>2019-04-20 12:00:00</td>\n",
       "      <td>146 Jackson St, Portland, OR 97035</td>\n",
       "      <td>4</td>\n",
       "      <td>5.98</td>\n",
       "      <td>Portland</td>\n",
       "      <td>AAA Batteries (4-pack)</td>\n",
       "    </tr>\n",
       "    <tr>\n",
       "      <th>32</th>\n",
       "      <td>176586</td>\n",
       "      <td>AAA Batteries (4-pack)</td>\n",
       "      <td>2</td>\n",
       "      <td>2.99</td>\n",
       "      <td>2019-04-10 17:00:00</td>\n",
       "      <td>365 Center St, San Francisco, CA 94016</td>\n",
       "      <td>4</td>\n",
       "      <td>5.98</td>\n",
       "      <td>San Francisco</td>\n",
       "      <td>AAA Batteries (4-pack)/Google Phone</td>\n",
       "    </tr>\n",
       "    <tr>\n",
       "      <th>45</th>\n",
       "      <td>176598</td>\n",
       "      <td>AAA Batteries (4-pack)</td>\n",
       "      <td>2</td>\n",
       "      <td>2.99</td>\n",
       "      <td>2019-04-21 20:33:00</td>\n",
       "      <td>294 Park St, San Francisco, CA 94016</td>\n",
       "      <td>4</td>\n",
       "      <td>5.98</td>\n",
       "      <td>San Francisco</td>\n",
       "      <td>AAA Batteries (4-pack)</td>\n",
       "    </tr>\n",
       "    <tr>\n",
       "      <th>54</th>\n",
       "      <td>176607</td>\n",
       "      <td>AAA Batteries (4-pack)</td>\n",
       "      <td>2</td>\n",
       "      <td>2.99</td>\n",
       "      <td>2019-04-18 12:11:00</td>\n",
       "      <td>689 10th St, Boston, MA 02215</td>\n",
       "      <td>4</td>\n",
       "      <td>5.98</td>\n",
       "      <td>Boston</td>\n",
       "      <td>AAA Batteries (4-pack)</td>\n",
       "    </tr>\n",
       "    <tr>\n",
       "      <th>...</th>\n",
       "      <td>...</td>\n",
       "      <td>...</td>\n",
       "      <td>...</td>\n",
       "      <td>...</td>\n",
       "      <td>...</td>\n",
       "      <td>...</td>\n",
       "      <td>...</td>\n",
       "      <td>...</td>\n",
       "      <td>...</td>\n",
       "      <td>...</td>\n",
       "    </tr>\n",
       "    <tr>\n",
       "      <th>11663</th>\n",
       "      <td>259336</td>\n",
       "      <td>AAA Batteries (4-pack)</td>\n",
       "      <td>3</td>\n",
       "      <td>2.99</td>\n",
       "      <td>2019-09-25 00:13:00</td>\n",
       "      <td>753 14th St, Boston, MA 02215</td>\n",
       "      <td>9</td>\n",
       "      <td>8.97</td>\n",
       "      <td>Boston</td>\n",
       "      <td>AAA Batteries (4-pack)</td>\n",
       "    </tr>\n",
       "    <tr>\n",
       "      <th>11665</th>\n",
       "      <td>259338</td>\n",
       "      <td>AAA Batteries (4-pack)</td>\n",
       "      <td>2</td>\n",
       "      <td>2.99</td>\n",
       "      <td>2019-09-02 21:29:00</td>\n",
       "      <td>666 Lakeview St, Boston, MA 02215</td>\n",
       "      <td>9</td>\n",
       "      <td>5.98</td>\n",
       "      <td>Boston</td>\n",
       "      <td>AAA Batteries (4-pack)</td>\n",
       "    </tr>\n",
       "    <tr>\n",
       "      <th>11671</th>\n",
       "      <td>259344</td>\n",
       "      <td>AAA Batteries (4-pack)</td>\n",
       "      <td>2</td>\n",
       "      <td>2.99</td>\n",
       "      <td>2019-09-10 23:33:00</td>\n",
       "      <td>721 Madison St, San Francisco, CA 94016</td>\n",
       "      <td>9</td>\n",
       "      <td>5.98</td>\n",
       "      <td>San Francisco</td>\n",
       "      <td>AAA Batteries (4-pack)</td>\n",
       "    </tr>\n",
       "    <tr>\n",
       "      <th>11676</th>\n",
       "      <td>259349</td>\n",
       "      <td>AAA Batteries (4-pack)</td>\n",
       "      <td>1</td>\n",
       "      <td>2.99</td>\n",
       "      <td>2019-09-01 22:14:00</td>\n",
       "      <td>911 River St, Dallas, TX 75001</td>\n",
       "      <td>9</td>\n",
       "      <td>2.99</td>\n",
       "      <td>Dallas</td>\n",
       "      <td>AAA Batteries (4-pack)</td>\n",
       "    </tr>\n",
       "    <tr>\n",
       "      <th>11681</th>\n",
       "      <td>259353</td>\n",
       "      <td>AAA Batteries (4-pack)</td>\n",
       "      <td>3</td>\n",
       "      <td>2.99</td>\n",
       "      <td>2019-09-17 20:56:00</td>\n",
       "      <td>840 Highland St, Los Angeles, CA 90001</td>\n",
       "      <td>9</td>\n",
       "      <td>8.97</td>\n",
       "      <td>Los Angeles</td>\n",
       "      <td>AAA Batteries (4-pack)</td>\n",
       "    </tr>\n",
       "  </tbody>\n",
       "</table>\n",
       "<p>20611 rows × 10 columns</p>\n",
       "</div>"
      ],
      "text/plain": [
       "       Order ID                 Product  Quantity Ordered  Price Each  \\\n",
       "20       176575  AAA Batteries (4-pack)                 1        2.99   \n",
       "28       176583  AAA Batteries (4-pack)                 2        2.99   \n",
       "32       176586  AAA Batteries (4-pack)                 2        2.99   \n",
       "45       176598  AAA Batteries (4-pack)                 2        2.99   \n",
       "54       176607  AAA Batteries (4-pack)                 2        2.99   \n",
       "...         ...                     ...               ...         ...   \n",
       "11663    259336  AAA Batteries (4-pack)                 3        2.99   \n",
       "11665    259338  AAA Batteries (4-pack)                 2        2.99   \n",
       "11671    259344  AAA Batteries (4-pack)                 2        2.99   \n",
       "11676    259349  AAA Batteries (4-pack)                 1        2.99   \n",
       "11681    259353  AAA Batteries (4-pack)                 3        2.99   \n",
       "\n",
       "               Order Date                         Purchase Address  \\\n",
       "20    2019-04-27 00:30:00     433 Hill St, New York City, NY 10001   \n",
       "28    2019-04-20 12:00:00       146 Jackson St, Portland, OR 97035   \n",
       "32    2019-04-10 17:00:00   365 Center St, San Francisco, CA 94016   \n",
       "45    2019-04-21 20:33:00     294 Park St, San Francisco, CA 94016   \n",
       "54    2019-04-18 12:11:00            689 10th St, Boston, MA 02215   \n",
       "...                   ...                                      ...   \n",
       "11663 2019-09-25 00:13:00            753 14th St, Boston, MA 02215   \n",
       "11665 2019-09-02 21:29:00        666 Lakeview St, Boston, MA 02215   \n",
       "11671 2019-09-10 23:33:00  721 Madison St, San Francisco, CA 94016   \n",
       "11676 2019-09-01 22:14:00           911 River St, Dallas, TX 75001   \n",
       "11681 2019-09-17 20:56:00   840 Highland St, Los Angeles, CA 90001   \n",
       "\n",
       "       Order Month  Sales Amount           City  \\\n",
       "20               4          2.99  New York City   \n",
       "28               4          5.98       Portland   \n",
       "32               4          5.98  San Francisco   \n",
       "45               4          5.98  San Francisco   \n",
       "54               4          5.98         Boston   \n",
       "...            ...           ...            ...   \n",
       "11663            9          8.97         Boston   \n",
       "11665            9          5.98         Boston   \n",
       "11671            9          5.98  San Francisco   \n",
       "11676            9          2.99         Dallas   \n",
       "11681            9          8.97    Los Angeles   \n",
       "\n",
       "                   Products Sold With This  \n",
       "20                  AAA Batteries (4-pack)  \n",
       "28                  AAA Batteries (4-pack)  \n",
       "32     AAA Batteries (4-pack)/Google Phone  \n",
       "45                  AAA Batteries (4-pack)  \n",
       "54                  AAA Batteries (4-pack)  \n",
       "...                                    ...  \n",
       "11663               AAA Batteries (4-pack)  \n",
       "11665               AAA Batteries (4-pack)  \n",
       "11671               AAA Batteries (4-pack)  \n",
       "11676               AAA Batteries (4-pack)  \n",
       "11681               AAA Batteries (4-pack)  \n",
       "\n",
       "[20611 rows x 10 columns]"
      ]
     },
     "execution_count": 82,
     "metadata": {},
     "output_type": "execute_result"
    }
   ],
   "source": [
    "df[df[\"Product\"]=='AAA Batteries (4-pack)']"
   ]
  },
  {
   "cell_type": "code",
   "execution_count": 84,
   "id": "6fea7f91-6092-4252-9830-741a0e45057f",
   "metadata": {},
   "outputs": [
    {
     "data": {
      "text/html": [
       "<div>\n",
       "<style scoped>\n",
       "    .dataframe tbody tr th:only-of-type {\n",
       "        vertical-align: middle;\n",
       "    }\n",
       "\n",
       "    .dataframe tbody tr th {\n",
       "        vertical-align: top;\n",
       "    }\n",
       "\n",
       "    .dataframe thead th {\n",
       "        text-align: right;\n",
       "    }\n",
       "</style>\n",
       "<table border=\"1\" class=\"dataframe\">\n",
       "  <thead>\n",
       "    <tr style=\"text-align: right;\">\n",
       "      <th></th>\n",
       "      <th>Order ID</th>\n",
       "      <th>Quantity Ordered</th>\n",
       "      <th>Price Each</th>\n",
       "      <th>Order Month</th>\n",
       "      <th>Sales Amount</th>\n",
       "    </tr>\n",
       "  </thead>\n",
       "  <tbody>\n",
       "    <tr>\n",
       "      <th>count</th>\n",
       "      <td>185675.000000</td>\n",
       "      <td>185675.000000</td>\n",
       "      <td>185675.000000</td>\n",
       "      <td>185675.000000</td>\n",
       "      <td>185675.000000</td>\n",
       "    </tr>\n",
       "    <tr>\n",
       "      <th>mean</th>\n",
       "      <td>230412.075007</td>\n",
       "      <td>1.124551</td>\n",
       "      <td>184.524642</td>\n",
       "      <td>7.058672</td>\n",
       "      <td>185.617387</td>\n",
       "    </tr>\n",
       "    <tr>\n",
       "      <th>std</th>\n",
       "      <td>51511.754650</td>\n",
       "      <td>0.443081</td>\n",
       "      <td>332.850462</td>\n",
       "      <td>3.502930</td>\n",
       "      <td>333.038731</td>\n",
       "    </tr>\n",
       "    <tr>\n",
       "      <th>min</th>\n",
       "      <td>141234.000000</td>\n",
       "      <td>1.000000</td>\n",
       "      <td>2.990000</td>\n",
       "      <td>1.000000</td>\n",
       "      <td>2.990000</td>\n",
       "    </tr>\n",
       "    <tr>\n",
       "      <th>25%</th>\n",
       "      <td>185833.500000</td>\n",
       "      <td>1.000000</td>\n",
       "      <td>11.950000</td>\n",
       "      <td>4.000000</td>\n",
       "      <td>11.950000</td>\n",
       "    </tr>\n",
       "    <tr>\n",
       "      <th>50%</th>\n",
       "      <td>230355.000000</td>\n",
       "      <td>1.000000</td>\n",
       "      <td>14.950000</td>\n",
       "      <td>7.000000</td>\n",
       "      <td>14.950000</td>\n",
       "    </tr>\n",
       "    <tr>\n",
       "      <th>75%</th>\n",
       "      <td>275029.000000</td>\n",
       "      <td>1.000000</td>\n",
       "      <td>150.000000</td>\n",
       "      <td>10.000000</td>\n",
       "      <td>150.000000</td>\n",
       "    </tr>\n",
       "    <tr>\n",
       "      <th>max</th>\n",
       "      <td>319670.000000</td>\n",
       "      <td>9.000000</td>\n",
       "      <td>1700.000000</td>\n",
       "      <td>12.000000</td>\n",
       "      <td>3400.000000</td>\n",
       "    </tr>\n",
       "  </tbody>\n",
       "</table>\n",
       "</div>"
      ],
      "text/plain": [
       "            Order ID  Quantity Ordered     Price Each    Order Month  \\\n",
       "count  185675.000000     185675.000000  185675.000000  185675.000000   \n",
       "mean   230412.075007          1.124551     184.524642       7.058672   \n",
       "std     51511.754650          0.443081     332.850462       3.502930   \n",
       "min    141234.000000          1.000000       2.990000       1.000000   \n",
       "25%    185833.500000          1.000000      11.950000       4.000000   \n",
       "50%    230355.000000          1.000000      14.950000       7.000000   \n",
       "75%    275029.000000          1.000000     150.000000      10.000000   \n",
       "max    319670.000000          9.000000    1700.000000      12.000000   \n",
       "\n",
       "        Sales Amount  \n",
       "count  185675.000000  \n",
       "mean      185.617387  \n",
       "std       333.038731  \n",
       "min         2.990000  \n",
       "25%        11.950000  \n",
       "50%        14.950000  \n",
       "75%       150.000000  \n",
       "max      3400.000000  "
      ]
     },
     "execution_count": 84,
     "metadata": {},
     "output_type": "execute_result"
    }
   ],
   "source": [
    "df.describe()"
   ]
  },
  {
   "cell_type": "markdown",
   "id": "57177a47-2b8e-49d1-942a-d555a1c3bc43",
   "metadata": {},
   "source": [
    "As we can see here this product has the cheapest price in our dataset <br> It could be the reason why it is the best seller"
   ]
  },
  {
   "cell_type": "code",
   "execution_count": 90,
   "id": "ef9249be-63b1-4502-be2f-6b04bce2cf04",
   "metadata": {},
   "outputs": [
    {
     "data": {
      "text/plain": [
       "<AxesSubplot:xlabel='Price Each', ylabel='Quantity Ordered'>"
      ]
     },
     "execution_count": 90,
     "metadata": {},
     "output_type": "execute_result"
    },
    {
     "data": {
      "image/png": "[encoded data removed]",
      "text/plain": [
       "<Figure size 640x480 with 1 Axes>"
      ]
     },
     "metadata": {},
     "output_type": "display_data"
    }
   ],
   "source": [
    "sns.scatterplot(data=df,x='Price Each',y='Quantity Ordered')"
   ]
  },
  {
   "cell_type": "markdown",
   "id": "bb4c62e0-482b-4efc-85e7-41cd9d9f8fd2",
   "metadata": {},
   "source": [
    "When the unit price goes up the quantity ordered goes down"
   ]
  },
  {
   "cell_type": "code",
   "execution_count": 94,
   "id": "e904f5c6-b062-489b-a04d-402d4a0c33dd",
   "metadata": {},
   "outputs": [
    {
     "data": {
      "text/plain": [
       "17"
      ]
     },
     "execution_count": 94,
     "metadata": {},
     "output_type": "execute_result"
    }
   ],
   "source": [
    "df['Price Each'].nunique()"
   ]
  },
  {
   "cell_type": "code",
   "execution_count": 93,
   "id": "49098197-d9c1-46da-854e-766f089cdc91",
   "metadata": {},
   "outputs": [
    {
     "data": {
      "text/plain": [
       "(array([ 0,  1,  2,  3,  4,  5,  6,  7,  8,  9, 10, 11, 12, 13, 14, 15, 16]),\n",
       " [Text(0, 0, '2.99'),\n",
       "  Text(1, 0, '3.84'),\n",
       "  Text(2, 0, '11.95'),\n",
       "  Text(3, 0, '11.99'),\n",
       "  Text(4, 0, '14.95'),\n",
       "  Text(5, 0, '99.99'),\n",
       "  Text(6, 0, '109.99'),\n",
       "  Text(7, 0, '149.99'),\n",
       "  Text(8, 0, '150.0'),\n",
       "  Text(9, 0, '300.0'),\n",
       "  Text(10, 0, '379.99'),\n",
       "  Text(11, 0, '389.99'),\n",
       "  Text(12, 0, '400.0'),\n",
       "  Text(13, 0, '600.0'),\n",
       "  Text(14, 0, '700.0'),\n",
       "  Text(15, 0, '999.99'),\n",
       "  Text(16, 0, '1700.0')])"
      ]
     },
     "execution_count": 93,
     "metadata": {},
     "output_type": "execute_result"
    },
    {
     "data": {
      "image/png": "[encoded data removed]",
      "text/plain": [
       "<Figure size 640x480 with 1 Axes>"
      ]
     },
     "metadata": {},
     "output_type": "display_data"
    }
   ],
   "source": [
    "sns.barplot(data=df,x='Price Each',y='Quantity Ordered')\n",
    "plt.xticks(rotation=90)"
   ]
  },
  {
   "cell_type": "markdown",
   "id": "e25bb587-5339-47f4-a361-490659c3dcb2",
   "metadata": {},
   "source": [
    "We can almost confirm our hypothesis that the more the price goes up the quantity ordered goes down <br> so the AAA Batteries (4-pack) is the best seller because it is the cheapest"
   ]
  },
  {
   "cell_type": "code",
   "execution_count": null,
   "id": "6c1b179b-a722-42aa-832d-81a6c850f45e",
   "metadata": {},
   "outputs": [],
   "source": []
  }
 ],
 "metadata": {
  "kernelspec": {
   "display_name": "Python 3 (ipykernel)",
   "language": "python",
   "name": "python3"
  },
  "language_info": {
   "codemirror_mode": {
    "name": "ipython",
    "version": 3
   },
   "file_extension": ".py",
   "mimetype": "text/x-python",
   "name": "python",
   "nbconvert_exporter": "python",
   "pygments_lexer": "ipython3",
   "version": "3.9.7"
  }
 },
 "nbformat": 4,
 "nbformat_minor": 5
}
